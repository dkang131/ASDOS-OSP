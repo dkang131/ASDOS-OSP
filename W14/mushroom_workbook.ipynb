{
 "cells": [
  {
   "cell_type": "markdown",
   "metadata": {},
   "source": [
    "# Mushroom Classification Pre Processing"
   ]
  },
  {
   "cell_type": "markdown",
   "metadata": {},
   "source": [
    "## Load the requirements"
   ]
  },
  {
   "cell_type": "code",
   "execution_count": null,
   "metadata": {},
   "outputs": [],
   "source": [
    "# run the requirements.txt file for install the necessary packages\n",
    "pip install -r mushroom_requirements.txt"
   ]
  },
  {
   "cell_type": "markdown",
   "metadata": {},
   "source": [
    "## Import Packages"
   ]
  },
  {
   "cell_type": "code",
   "execution_count": null,
   "metadata": {},
   "outputs": [],
   "source": [
    "import numpy as np\n",
    "import pandas as pd\n",
    "import matplotlib.pyplot as plt\n",
    "import seaborn as sns\n",
    "import scipy.stats as st\n",
    "import collections\n",
    "\n",
    "from sklearn import decomposition, svm, metrics\n",
    "from sklearn.model_selection import train_test_split\n",
    "from sklearn.preprocessing import StandardScaler\n",
    "from sklearn.decomposition import PCA\n",
    "from imblearn.over_sampling import RandomOverSampler\n",
    "from sklearn.neighbors import KNeighborsClassifier\n",
    "from sklearn.feature_selection import f_classif, SelectKBest, chi2\n",
    "from sklearn.metrics import confusion_matrix, accuracy_score, recall_score, precision_score, f1_score, classification_report\n",
    "from sklearn.model_selection import GridSearchCV\n",
    "from sklearn.svm import SVC\n",
    "\n",
    "from pingouin import multivariate_normality\n",
    "from factor_analyzer import FactorAnalyzer\n",
    "\n",
    "#other libraries\n",
    "import math\n",
    "from collections import Counter"
   ]
  },
  {
   "cell_type": "markdown",
   "metadata": {},
   "source": [
    "## Palette Colour for Plot"
   ]
  },
  {
   "cell_type": "code",
   "execution_count": null,
   "metadata": {},
   "outputs": [],
   "source": [
    "\n",
    "palette_features = ['#E68753', '#409996']"
   ]
  },
  {
   "cell_type": "markdown",
   "metadata": {},
   "source": [
    "## Load Data"
   ]
  },
  {
   "cell_type": "code",
   "execution_count": null,
   "metadata": {},
   "outputs": [],
   "source": [
    "# Import data yang telah diberikan\n",
    "data = # YOUR CODE HERE\n"
   ]
  },
  {
   "cell_type": "code",
   "execution_count": null,
   "metadata": {},
   "outputs": [],
   "source": [
    "# Print dimensi dari data\n",
    "\n",
    "# YOUR CODE HERE"
   ]
  },
  {
   "cell_type": "code",
   "execution_count": null,
   "metadata": {},
   "outputs": [],
   "source": [
    "# Print ringkasan dari data yang memuat nama kolom, dan tipe data seperti pada gambar dibawah\n",
    "\n",
    "# YOUR CODE HERE"
   ]
  },
  {
   "attachments": {
    "image.png": {
     "image/png": "[encoded data removed]"
    }
   },
   "cell_type": "markdown",
   "metadata": {},
   "source": [
    "![image.png](attachment:image.png)"
   ]
  },
  {
   "cell_type": "code",
   "execution_count": null,
   "metadata": {},
   "outputs": [],
   "source": [
    "# Mengecek apakah ada missing value pada data\n",
    "missing_value = ['#NUM!', np.nan, 'NA']\n",
    "\n",
    "# Read data lagi tetapi menambahkan na_values = missing data pada command pd.read_csv\n",
    "# YOUR CODE HERE\n",
    "\n",
    "data.isnull().sum()"
   ]
  },
  {
   "cell_type": "code",
   "execution_count": null,
   "metadata": {},
   "outputs": [],
   "source": [
    "# remove missing value\n",
    "data.dropna( subset=['kolom yang ada missing value'], axis=0, inplace=True)\n",
    "data.isnull().sum()"
   ]
  },
  {
   "cell_type": "code",
   "execution_count": null,
   "metadata": {},
   "outputs": [],
   "source": [
    "# Membuat Correlation Matrix\n",
    "corr = data.corr()\n",
    "\n",
    "plt.figure(figsize = (20, 12))\n",
    "sns.heatmap(corr, annot=True, fmt = \".2f\", cmap=\"BrBG\")\n",
    "plt.show()"
   ]
  },
  {
   "cell_type": "code",
   "execution_count": null,
   "metadata": {},
   "outputs": [],
   "source": [
    "# KMO Test\n",
    "def kmo(dataset_corr):\n",
    "    #KMO Test\n",
    "    #inverse of the correlation matrix\n",
    "    corr_inv = np.linalg.inv(dataset_corr)\n",
    "    nrow_inv_corr, ncol_inv_corr = dataset_corr.shape\n",
    "    \n",
    "    #partial correlation matrix\n",
    "    A = np.ones((nrow_inv_corr,ncol_inv_corr))\n",
    "    for i in range(0,nrow_inv_corr,1):\n",
    "        for j in range(i,ncol_inv_corr,1):\n",
    "            #above the diagonal\n",
    "            A[i,j] = - (corr_inv[i,j]) / (math.sqrt(corr_inv[i,i] * corr_inv[j,j]))\n",
    "            #below the diagonal\n",
    "            A[j,i] = A[i,j]\n",
    "    \n",
    "    #transform to an array of arrays (\"matrix\" with Python)\n",
    "    dataset_corr = np.asarray(dataset_corr)\n",
    "        \n",
    "    #KMO value\n",
    "    kmo_num = np.sum(np.square(dataset_corr)) - np.sum(np.square(np.diagonal(dataset_corr)))\n",
    "    kmo_denom = kmo_num + np.sum(np.square(A)) - np.sum(np.square(np.diagonal(A)))\n",
    "    kmo_value = kmo_num / kmo_denom\n",
    "    \n",
    "    \n",
    "    kmo_j = [None]*dataset_corr.shape[1]\n",
    "    #KMO per variable (diagonal of the spss anti-image matrix)\n",
    "    for j in range(0, dataset_corr.shape[1]):\n",
    "        kmo_j_num = np.sum(dataset_corr[:,[j]] ** 2) - dataset_corr[j,j] ** 2\n",
    "        kmo_j_denom = kmo_j_num + np.sum(A[:,[j]] ** 2) - A[j,j] ** 2\n",
    "        kmo_j[j] = kmo_j_num / kmo_j_denom\n",
    "\n",
    "    \n",
    "    Result = collections.namedtuple(\"KMO_Test_Results\", [\"value\", \"per_variable\"])   \n",
    "    \n",
    "    #Output of the results - named tuple    \n",
    "    return Result(value=kmo_value,per_variable=kmo_j)"
   ]
  },
  {
   "cell_type": "code",
   "execution_count": null,
   "metadata": {},
   "outputs": [],
   "source": [
    "kmo = kmo(corr)"
   ]
  },
  {
   "cell_type": "code",
   "execution_count": null,
   "metadata": {},
   "outputs": [],
   "source": [
    "kmo[1]\n",
    "# berdasarkan hasil dibawah ini, kita akan drop kolom dengan nilai KMO dibawah 0.5\n",
    "# nilai KMO dibawah urut dari kolom 1 sampai 9\n",
    "# silahkan cari tau kolom mana yang harus di drop"
   ]
  },
  {
   "cell_type": "code",
   "execution_count": null,
   "metadata": {},
   "outputs": [],
   "source": [
    "# Lakukan Copy data terlebih dahulu\n",
    "\n",
    "data = # YOUR CODE HERE\n",
    "\n",
    "# Drop kolom dengan KMO dibawah 0.5\n",
    "\n",
    "# YOUR CODE HERE"
   ]
  },
  {
   "cell_type": "markdown",
   "metadata": {},
   "source": [
    "## Cheking Balance of Y Variable"
   ]
  },
  {
   "cell_type": "code",
   "execution_count": null,
   "metadata": {},
   "outputs": [],
   "source": [
    "#plot target variable\n",
    "sns.set(rc={'axes.facecolor':'#ECECEC'}) #background color of plot\n",
    "plt.figure(figsize=(12,6))\n",
    "plt.title(\"Response Variable\", fontsize=15, fontweight='bold', fontname='Arial', ha='center')\n",
    "ax = sns.countplot(x='class', data=data,hue='class', palette=palette_features)\n",
    "\n",
    "#add labels to each bar\n",
    "abs_values = data['class'].value_counts(ascending=False).values\n",
    "for i, v in enumerate(abs_values):\n",
    "    if v is not None:\n",
    "        ax.text(i, v + 0.1, str(v), ha='center', va='bottom', fontsize=10)\n",
    "\n",
    "#show the plot\n",
    "plt.show()"
   ]
  },
  {
   "cell_type": "markdown",
   "metadata": {},
   "source": [
    "## Determine X and Y Variables"
   ]
  },
  {
   "cell_type": "code",
   "execution_count": null,
   "metadata": {},
   "outputs": [],
   "source": [
    "columns = data.columns\n",
    "columns = [c for c in columns if c not in ['class']]\n",
    "y = data['class'] \n",
    "X = data[columns]"
   ]
  },
  {
   "cell_type": "markdown",
   "metadata": {},
   "source": [
    "## Train Test Splitting"
   ]
  },
  {
   "cell_type": "code",
   "execution_count": null,
   "metadata": {},
   "outputs": [],
   "source": [
    "np.random.seed(13)\n",
    "X_train, X_test, y_train, y_test = train_test_split(X, y, test_size=0.2, random_state=1) #80 % of train data, 20 % of test data\n",
    "X_train.shape, X_test.shape, y_train.shape, y_test.shape"
   ]
  },
  {
   "cell_type": "code",
   "execution_count": null,
   "metadata": {},
   "outputs": [],
   "source": [
    "# Silahkan save masing masing data X_train, X_test, y_train, y_test ke dalam csv\n",
    "\n",
    "# YOUR CODE HERE"
   ]
  }
 ],
 "metadata": {
  "kernelspec": {
   "display_name": "Python 3",
   "language": "python",
   "name": "python3"
  },
  "language_info": {
   "codemirror_mode": {
    "name": "ipython",
    "version": 3
   },
   "file_extension": ".py",
   "mimetype": "text/x-python",
   "name": "python",
   "nbconvert_exporter": "python",
   "pygments_lexer": "ipython3",
   "version": "3.11.9"
  }
 },
 "nbformat": 4,
 "nbformat_minor": 2
}
