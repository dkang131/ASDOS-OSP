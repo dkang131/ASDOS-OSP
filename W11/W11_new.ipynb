{
 "cells": [
  {
   "cell_type": "markdown",
   "metadata": {},
   "source": [
    "# Week 11\n",
    "# Open Source Programming"
   ]
  },
  {
   "cell_type": "markdown",
   "metadata": {},
   "source": [
    "### List, Tuple, Set, Dictionary"
   ]
  },
  {
   "cell_type": "markdown",
   "metadata": {},
   "source": [
    "- **List** is a collection which is ordered and changeable. Allows duplicate members.\n",
    "- **Tuple** is a collection which is orderd and unchangeable. Allows duplicate members.\n",
    "- **Set** is a collection which is unordered, unchangeable, and unindexed. No duplicate members.\n",
    "- **Dictionary** is a collection which is ordered and changeable. No duplicate members."
   ]
  },
  {
   "cell_type": "markdown",
   "metadata": {},
   "source": [
    "### List\n",
    "List adalah koleksi berurutan yang dapat diubah. Dalam list, urutan elemen penting dan setiap elemen dapat berada di posisi apa pun dalam list. List dapat berisi angka, string, dan objek lainnya. Selain itu, list dapat berisi item dengan tipe data yang berbeda. Misalnya, `list = [1, 'two', 3.0]` atau berisi satu tipe data saja, misal `list = [1, 2, 3]`"
   ]
  },
  {
   "cell_type": "markdown",
   "metadata": {},
   "source": [
    "Untuk melakukan beberapa perubahan anda dapat menggunakan:\n",
    "- `append` untuk menambahkan elemen ke dalam posisi terakhir\n",
    "- `remove` untuk menghapus elemen yang bersesuaian\n",
    "- `pop` untuk menghapus elemen berdasarkan index\n",
    "- `sort` untuk mengurutkan elemen berdasarkan nilainya"
   ]
  },
  {
   "cell_type": "code",
   "execution_count": 1,
   "metadata": {},
   "outputs": [
    {
     "name": "stdout",
     "output_type": "stream",
     "text": [
      "[1, 2, 3, 4] [1, 2, 3, 4]\n"
     ]
    }
   ],
   "source": [
    "first = [1, 2, 3, 4]\n",
    "second = list(range(1,5))\n",
    "print(first, second)"
   ]
  },
  {
   "cell_type": "code",
   "execution_count": 4,
   "metadata": {},
   "outputs": [
    {
     "data": {
      "text/plain": [
       "[0, 2, 3, 4]"
      ]
     },
     "execution_count": 4,
     "metadata": {},
     "output_type": "execute_result"
    }
   ],
   "source": [
    "first[0] = 0\n",
    "first"
   ]
  },
  {
   "cell_type": "code",
   "execution_count": 5,
   "metadata": {},
   "outputs": [
    {
     "name": "stdout",
     "output_type": "stream",
     "text": [
      "['H', 'a', 'l', 'l', 'o', '!']\n"
     ]
    }
   ],
   "source": [
    "third = list(\"Hallo!\")\n",
    "print(third)"
   ]
  },
  {
   "cell_type": "code",
   "execution_count": 6,
   "metadata": {},
   "outputs": [
    {
     "data": {
      "text/plain": [
       "'H'"
      ]
     },
     "execution_count": 6,
     "metadata": {},
     "output_type": "execute_result"
    }
   ],
   "source": [
    "third[0]"
   ]
  },
  {
   "cell_type": "code",
   "execution_count": 8,
   "metadata": {},
   "outputs": [
    {
     "data": {
      "text/plain": [
       "False"
      ]
     },
     "execution_count": 8,
     "metadata": {},
     "output_type": "execute_result"
    }
   ],
   "source": [
    "'j' in third # nama list"
   ]
  },
  {
   "cell_type": "code",
   "execution_count": 9,
   "metadata": {},
   "outputs": [
    {
     "name": "stdout",
     "output_type": "stream",
     "text": [
      "13\n",
      "1\n",
      "12\n"
     ]
    },
    {
     "data": {
      "text/plain": [
       "[2, 10, 11]"
      ]
     },
     "execution_count": 9,
     "metadata": {},
     "output_type": "execute_result"
    }
   ],
   "source": [
    "random_list = [1,2,10,11,12,13]\n",
    "print(random_list.pop()) # remove the last element\n",
    "print(random_list.pop(0)) # remove the first element\n",
    "print(random_list.pop(3))\n",
    "random_list"
   ]
  },
  {
   "cell_type": "code",
   "execution_count": 10,
   "metadata": {},
   "outputs": [
    {
     "data": {
      "text/plain": [
       "[1, 9, 12, 34, 54]"
      ]
     },
     "execution_count": 10,
     "metadata": {},
     "output_type": "execute_result"
    }
   ],
   "source": [
    "sort_list = [12,54,1,34,9]\n",
    "sort_list.sort()\n",
    "sort_list"
   ]
  },
  {
   "cell_type": "code",
   "execution_count": 11,
   "metadata": {},
   "outputs": [],
   "source": [
    "list_buah = [\"apel\", \"pisang\", \"cherry\"]"
   ]
  },
  {
   "cell_type": "code",
   "execution_count": 12,
   "metadata": {},
   "outputs": [
    {
     "name": "stdout",
     "output_type": "stream",
     "text": [
      "['apel', 'pisang', 'cherry', 'durian']\n",
      "['pisang', 'cherry', 'durian']\n",
      "['pisang', 'durian']\n"
     ]
    }
   ],
   "source": [
    "list_buah.append(\"durian\")\n",
    "print(list_buah)  # Output: ['apel', 'pisang', 'cherry', 'durian']\n",
    "\n",
    "list_buah.remove(\"apel\")\n",
    "print(list_buah)  # Output: ['pisang', 'cherry', 'durian']\n",
    "\n",
    "list_buah.pop(1)\n",
    "print(list_buah)  # Output: ['pisang', 'durian']"
   ]
  },
  {
   "cell_type": "markdown",
   "metadata": {},
   "source": [
    "#### Looping pada List\n",
    "**Looping menggunakan list langsung**"
   ]
  },
  {
   "cell_type": "code",
   "execution_count": 13,
   "metadata": {},
   "outputs": [
    {
     "name": "stdout",
     "output_type": "stream",
     "text": [
      "apel\n",
      "pisang\n",
      "mangga\n"
     ]
    }
   ],
   "source": [
    "daftar_buah = [\"apel\", \"pisang\", \"mangga\"]\n",
    "for buah in daftar_buah:\n",
    "    print(buah)"
   ]
  },
  {
   "cell_type": "markdown",
   "metadata": {},
   "source": [
    "Dalam contoh di atas, loop for berjalan melalui setiap item dalam list, dan mencetak nama buah."
   ]
  },
  {
   "cell_type": "markdown",
   "metadata": {},
   "source": [
    "**Looping dengan range**"
   ]
  },
  {
   "cell_type": "code",
   "execution_count": 14,
   "metadata": {},
   "outputs": [
    {
     "name": "stdout",
     "output_type": "stream",
     "text": [
      "apel\n",
      "pisang\n",
      "mangga\n"
     ]
    }
   ],
   "source": [
    "daftar_buah = [\"apel\", \"pisang\", \"mangga\"]\n",
    "for i in range(len(daftar_buah)):\n",
    "    print(daftar_buah[i])"
   ]
  },
  {
   "cell_type": "markdown",
   "metadata": {},
   "source": [
    "### Tuples\n",
    "Tuple mirip dengan list, tetapi tidak dapat diubah. Ini berguna ketika Anda memiliki kumpulan data yang tidak boleh diubah, misalnya, koordinat geografis, hari dalam seminggu, atau tanggal kalender. Tuples dibuat dengan cara menggunakan tanda kurung kurung, misalkan sebagai berikut."
   ]
  },
  {
   "cell_type": "code",
   "execution_count": 55,
   "metadata": {},
   "outputs": [
    {
     "name": "stdout",
     "output_type": "stream",
     "text": [
      "('apple', 'banana', 'cherry') \n",
      " (1, 5, 7, 9, 3) \n",
      " (True, False, False)\n"
     ]
    }
   ],
   "source": [
    "tuple1 = (\"apple\", \"banana\", \"cherry\")\n",
    "tuple2 = (1, 5, 7, 9, 3)\n",
    "tuple3 = (True, False, False)\n",
    "\n",
    "print(tuple1, \"\\n\", tuple2, \"\\n\", tuple3)"
   ]
  },
  {
   "cell_type": "code",
   "execution_count": 56,
   "metadata": {},
   "outputs": [
    {
     "data": {
      "text/plain": [
       "'apple'"
      ]
     },
     "execution_count": 56,
     "metadata": {},
     "output_type": "execute_result"
    }
   ],
   "source": [
    "tuple1[0]"
   ]
  },
  {
   "cell_type": "markdown",
   "metadata": {},
   "source": [
    "### Set\n",
    "Set dalam Python adalah kumpulan item yang tidak berurutan dan tidak terindeks. Set didefinisikan dengan kurung kurawal \n",
    "`{}` dan elemen di dalamnya dipisahkan oleh koma. Setiap elemen dalam set bersifat **unik (tidak ada duplikasi)** dan harus bersifat **immutable (tidak dapat diubah)**."
   ]
  },
  {
   "cell_type": "code",
   "execution_count": 15,
   "metadata": {},
   "outputs": [
    {
     "name": "stdout",
     "output_type": "stream",
     "text": [
      "{'banana', 'apple', 'cherry'}\n"
     ]
    }
   ],
   "source": [
    "thisset = {\"apple\", \"banana\", \"cherry\", \"apple\"}\n",
    "print(thisset)"
   ]
  },
  {
   "cell_type": "code",
   "execution_count": 16,
   "metadata": {},
   "outputs": [
    {
     "ename": "TypeError",
     "evalue": "'set' object is not subscriptable",
     "output_type": "error",
     "traceback": [
      "\u001b[1;31m---------------------------------------------------------------------------\u001b[0m",
      "\u001b[1;31mTypeError\u001b[0m                                 Traceback (most recent call last)",
      "Cell \u001b[1;32mIn[16], line 1\u001b[0m\n\u001b[1;32m----> 1\u001b[0m \u001b[43mthisset\u001b[49m\u001b[43m[\u001b[49m\u001b[38;5;241;43m0\u001b[39;49m\u001b[43m]\u001b[49m \u001b[38;5;66;03m# error\u001b[39;00m\n",
      "\u001b[1;31mTypeError\u001b[0m: 'set' object is not subscriptable"
     ]
    }
   ],
   "source": [
    "thisset[0] # error"
   ]
  },
  {
   "cell_type": "markdown",
   "metadata": {},
   "source": [
    "### Dictionary\n",
    "Dictionary adalah koleksi yang tidak berurutan, dapat diubah, dan diindeks. Dalam dictionary, urutan elemen tidak penting. Dictionary di Python ditulis dengan kurung kurawal `{}`, dan mereka memiliki kunci dan nilai. Nilai dalam dictionary bisa berupa tipe data apa pun, sedangkan kunci biasanya adalah tipe data yang tidak berubah seperti string, angka, atau tuple."
   ]
  },
  {
   "cell_type": "markdown",
   "metadata": {},
   "source": [
    "#### a. Dictionary Biasa dan Looping\n",
    "Untuk membuat dictionary, anda bisa mencoba beberapa code berikut."
   ]
  },
  {
   "cell_type": "code",
   "execution_count": 17,
   "metadata": {},
   "outputs": [
    {
     "name": "stdout",
     "output_type": "stream",
     "text": [
      "{'brand': 'Ford', 'model': 'Mustang', 'year': 1964}\n",
      "Ford\n"
     ]
    }
   ],
   "source": [
    "thisdict = {\n",
    "  \"brand\": \"Ford\",\n",
    "  \"model\": \"Mustang\",\n",
    "  \"year\": 1964\n",
    "}\n",
    "print(thisdict)\n",
    "print(thisdict[\"brand\"])"
   ]
  },
  {
   "cell_type": "code",
   "execution_count": 18,
   "metadata": {},
   "outputs": [
    {
     "name": "stdout",
     "output_type": "stream",
     "text": [
      "3\n"
     ]
    }
   ],
   "source": [
    "print(len(thisdict))"
   ]
  },
  {
   "cell_type": "code",
   "execution_count": 19,
   "metadata": {},
   "outputs": [
    {
     "name": "stdout",
     "output_type": "stream",
     "text": [
      "{'brand': ['Ford', 'Nissan'], 'model': 'Mustang', 'year': 1964}\n"
     ]
    }
   ],
   "source": [
    "thisdict = {\n",
    "  \"brand\": [\"Ford\", \"Nissan\"],\n",
    "  \"model\": \"Mustang\",\n",
    "  \"year\": 1964\n",
    "}\n",
    "print(thisdict)"
   ]
  },
  {
   "cell_type": "code",
   "execution_count": 20,
   "metadata": {},
   "outputs": [
    {
     "name": "stdout",
     "output_type": "stream",
     "text": [
      "['Ford', 'Nissan']\n"
     ]
    }
   ],
   "source": [
    "print(thisdict[\"brand\"])"
   ]
  },
  {
   "cell_type": "markdown",
   "metadata": {},
   "source": [
    "Untuk menggunakan looping pada dictionary, anda bisa menggunakan cara-cara berikut.\n",
    "\n"
   ]
  },
  {
   "cell_type": "markdown",
   "metadata": {},
   "source": [
    "**Looping menggunakan value**"
   ]
  },
  {
   "cell_type": "code",
   "execution_count": 21,
   "metadata": {},
   "outputs": [
    {
     "name": "stdout",
     "output_type": "stream",
     "text": [
      "Nilai: John\n",
      "Nilai: 30\n"
     ]
    }
   ],
   "source": [
    "dictionary = {'nama': 'John', 'umur': 30}\n",
    "for v in dictionary.values():\n",
    "    print('Nilai: {}'.format(v))"
   ]
  },
  {
   "cell_type": "markdown",
   "metadata": {},
   "source": [
    "Dalam contoh di atas, loop for berjalan melalui setiap nilai dalam dictionary, mencetak nilai."
   ]
  },
  {
   "cell_type": "code",
   "execution_count": 22,
   "metadata": {},
   "outputs": [
    {
     "name": "stdout",
     "output_type": "stream",
     "text": [
      "Nilai: nama\n",
      "Nilai: umur\n"
     ]
    }
   ],
   "source": [
    "dictionary = {'nama': 'John', 'umur': 30}\n",
    "for k in dictionary.keys():\n",
    "    print('Nilai: {}'.format(k))"
   ]
  },
  {
   "cell_type": "markdown",
   "metadata": {},
   "source": [
    "**Looping menggunakan pasangan kunci**"
   ]
  },
  {
   "cell_type": "code",
   "execution_count": 64,
   "metadata": {},
   "outputs": [
    {
     "name": "stdout",
     "output_type": "stream",
     "text": [
      "Kunci: nama, Nilai: John\n",
      "Kunci: umur, Nilai: 30\n"
     ]
    }
   ],
   "source": [
    "dictionary = {'nama': 'John', 'umur': 30}\n",
    "for k, v in dictionary.items():\n",
    "    print('Kunci: {}, Nilai: {}'.format(k, v))"
   ]
  },
  {
   "cell_type": "markdown",
   "metadata": {},
   "source": [
    "Disini, atribut `items()` digunakan untuk mengakses key dan value secara bersamaan."
   ]
  },
  {
   "cell_type": "markdown",
   "metadata": {},
   "source": [
    "#### b. Nested Dictionary\n",
    "Anda juga dapat menggunakan dictionary di dalam dictionary, contohnya sebagai berikut."
   ]
  },
  {
   "cell_type": "code",
   "execution_count": 24,
   "metadata": {},
   "outputs": [],
   "source": [
    "nested_dict = {\n",
    "    \"dictA\": {\"key_1\": \"value_1\"},\n",
    "    \"dictB\": {\"key_2\": \"value_2\", \"key_3\": \"value_3\", \"key_4\": \"value_4\"}\n",
    "}"
   ]
  },
  {
   "cell_type": "markdown",
   "metadata": {},
   "source": [
    "Sedangkan untuk memebuat loopingnya, anda bisa menggunakan double looping untuk mengakses semua elemen di dalam nested dictionary tersebut."
   ]
  },
  {
   "cell_type": "code",
   "execution_count": 25,
   "metadata": {},
   "outputs": [
    {
     "name": "stdout",
     "output_type": "stream",
     "text": [
      "Kunci Luar: dictA\n",
      "\tKunci Dalam: key_1, Nilai: value_1\n",
      "Kunci Luar: dictB\n",
      "\tKunci Dalam: key_2, Nilai: value_2\n",
      "\tKunci Dalam: key_3, Nilai: value_3\n",
      "\tKunci Dalam: key_4, Nilai: value_4\n"
     ]
    }
   ],
   "source": [
    "# Looping di nested dictionary\n",
    "for outer_key, inner_dict in nested_dict.items():\n",
    "    print(f\"Kunci Luar: {outer_key}\")\n",
    "    for inner_key, value in inner_dict.items():\n",
    "        print(f\"\\tKunci Dalam: {inner_key}, Nilai: {value}\")"
   ]
  },
  {
   "cell_type": "markdown",
   "metadata": {},
   "source": [
    "Dalam contoh di atas, fungsi `items()` digunakan untuk mendapatkan pasangan kunci-nilai dari nested dictionary. Looping luar menghasilkan kunci luar dan dictionary dalam, sedangkan looping dalam menghasilkan kunci dan nilai dari dictionary dalam."
   ]
  },
  {
   "cell_type": "code",
   "execution_count": 26,
   "metadata": {},
   "outputs": [],
   "source": [
    "import numpy as np"
   ]
  },
  {
   "cell_type": "code",
   "execution_count": 48,
   "metadata": {},
   "outputs": [],
   "source": [
    "np.random.seed(0)"
   ]
  },
  {
   "cell_type": "code",
   "execution_count": 49,
   "metadata": {},
   "outputs": [
    {
     "data": {
      "text/plain": [
       "array([5, 0, 3, 3, 7, 9, 3, 5, 2, 4])"
      ]
     },
     "execution_count": 49,
     "metadata": {},
     "output_type": "execute_result"
    }
   ],
   "source": [
    "z = np.random.randint(10, size = (10,), dtype=int)\n",
    "z"
   ]
  },
  {
   "cell_type": "code",
   "execution_count": 50,
   "metadata": {},
   "outputs": [],
   "source": [
    "def sigmoid(input):\n",
    "    sigma = 1 / (1+np.exp(-input))\n",
    "    print(sigma)"
   ]
  },
  {
   "cell_type": "code",
   "execution_count": 51,
   "metadata": {},
   "outputs": [
    {
     "name": "stdout",
     "output_type": "stream",
     "text": [
      "[0.99330715 0.5        0.95257413 0.95257413 0.99908895 0.99987661\n",
      " 0.95257413 0.99330715 0.88079708 0.98201379]\n"
     ]
    }
   ],
   "source": [
    "sigmoid(z)"
   ]
  },
  {
   "cell_type": "code",
   "execution_count": null,
   "metadata": {},
   "outputs": [],
   "source": []
  }
 ],
 "metadata": {
  "kernelspec": {
   "display_name": "Python 3",
   "language": "python",
   "name": "python3"
  },
  "language_info": {
   "codemirror_mode": {
    "name": "ipython",
    "version": 3
   },
   "file_extension": ".py",
   "mimetype": "text/x-python",
   "name": "python",
   "nbconvert_exporter": "python",
   "pygments_lexer": "ipython3",
   "version": "3.11.9"
  }
 },
 "nbformat": 4,
 "nbformat_minor": 2
}
