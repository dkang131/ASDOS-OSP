{
 "cells": [
  {
   "cell_type": "markdown",
   "metadata": {
    "cell_id": "9939f8d7ad13412185eef8ab21597068",
    "deepnote_cell_type": "text-cell-h1",
    "formattedRanges": [],
    "id": "RehGe0pXOhnv"
   },
   "source": [
    "# Open Source Programming W9"
   ]
  },
  {
   "cell_type": "markdown",
   "metadata": {
    "cell_id": "037564fdbf324e1694b5e6a5f584a19d",
    "deepnote_cell_type": "text-cell-p",
    "formattedRanges": [],
    "id": "cIMs4WsqOhn1"
   },
   "source": [
    "introduction to python"
   ]
  },
  {
   "cell_type": "markdown",
   "metadata": {
    "cell_id": "a33be48ccd3748b4884f89c207c2138c",
    "deepnote_cell_type": "markdown",
    "id": "AKabKOz4Ohn1"
   },
   "source": [
    "# Basic Python Command"
   ]
  },
  {
   "cell_type": "markdown",
   "metadata": {
    "cell_id": "c62604154fda4621af770b5c47df977d",
    "deepnote_cell_type": "markdown",
    "id": "ytm9Gxw0Ohn2"
   },
   "source": [
    "## Variables"
   ]
  },
  {
   "cell_type": "code",
   "execution_count": 1,
   "metadata": {
    "cell_id": "db22e8a4dd4f49d5ae69f0805c3af46d",
    "deepnote_cell_type": "code",
    "deepnote_to_be_reexecuted": false,
    "execution_millis": 21,
    "execution_start": 1698124194005,
    "id": "94-sC_HdOhn2",
    "outputId": "59f1e304-063b-49d8-a1f3-777e26c6c19b",
    "source_hash": null
   },
   "outputs": [
    {
     "name": "stdout",
     "output_type": "stream",
     "text": [
      "hello world\n"
     ]
    }
   ],
   "source": [
    "print('hello world')"
   ]
  },
  {
   "cell_type": "markdown",
   "metadata": {
    "cell_id": "93865b8ad9224202a47eab4782ef68d6",
    "deepnote_cell_type": "markdown",
    "id": "sWjmubh6Ohn4"
   },
   "source": [
    "* **str()** -> convert a value (oftern numeric) to a **string** data type\n",
    "* **int()** -> convert a value (usually float) to an **integer** data type\n",
    "* **float()** -> convert a value (usually an integer) to a **float** data type"
   ]
  },
  {
   "cell_type": "code",
   "execution_count": 2,
   "metadata": {
    "cell_id": "5700c8c61c4e48629dea6cdc64f6d031",
    "deepnote_cell_type": "code",
    "deepnote_to_be_reexecuted": false,
    "execution_millis": 26,
    "execution_start": 1698124194049,
    "id": "g-4FGgaqOhn4",
    "outputId": "72198174-ee74-4265-b6f9-7e810627e9a2",
    "source_hash": null
   },
   "outputs": [
    {
     "name": "stdout",
     "output_type": "stream",
     "text": [
      "21.6\n",
      "Each person needs to pay: 21.6\n"
     ]
    }
   ],
   "source": [
    "hotel_room = 100\n",
    "tax = hotel_room * 0.08\n",
    "total = hotel_room + tax\n",
    "room_guests = 5\n",
    "share_per_person = total/room_guests\n",
    "\n",
    "print(share_per_person)\n",
    "print(\"Each person needs to pay: \"+str(share_per_person))"
   ]
  },
  {
   "cell_type": "code",
   "execution_count": 3,
   "metadata": {},
   "outputs": [
    {
     "ename": "TypeError",
     "evalue": "can only concatenate str (not \"float\") to str",
     "output_type": "error",
     "traceback": [
      "\u001b[1;31m---------------------------------------------------------------------------\u001b[0m",
      "\u001b[1;31mTypeError\u001b[0m                                 Traceback (most recent call last)",
      "Cell \u001b[1;32mIn[3], line 1\u001b[0m\n\u001b[1;32m----> 1\u001b[0m \u001b[38;5;28mprint\u001b[39m(\u001b[38;5;124;43m\"\u001b[39;49m\u001b[38;5;124;43mEach person needs to pay: \u001b[39;49m\u001b[38;5;124;43m\"\u001b[39;49m\u001b[38;5;241;43m+\u001b[39;49m\u001b[43mshare_per_person\u001b[49m)\n",
      "\u001b[1;31mTypeError\u001b[0m: can only concatenate str (not \"float\") to str"
     ]
    }
   ],
   "source": [
    "print(\"Each person needs to pay: \"+share_per_person)"
   ]
  },
  {
   "cell_type": "code",
   "execution_count": 4,
   "metadata": {
    "cell_id": "072e940e2ce642faad51e292f970b06a",
    "deepnote_cell_type": "code",
    "deepnote_to_be_reexecuted": false,
    "execution_millis": 18,
    "execution_start": 1698124194050,
    "id": "wc3HKzB8Ohn5",
    "outputId": "2cab4368-63b3-48a8-ced2-958e7e01ff21",
    "source_hash": null
   },
   "outputs": [
    {
     "name": "stdout",
     "output_type": "stream",
     "text": [
      "Dr. Prisha Jai Agarwal Ph.D.\n"
     ]
    }
   ],
   "source": [
    "salutation = 'Dr.'\n",
    "first_name = 'Prisha'\n",
    "middle_name = 'Jai'\n",
    "last_name = 'Agarwal'\n",
    "suffix = 'Ph.D.'\n",
    "\n",
    "print(salutation + ' ' + first_name + ' ' + middle_name + ' ' + last_name + ' ' + suffix)"
   ]
  },
  {
   "cell_type": "code",
   "execution_count": 5,
   "metadata": {
    "cell_id": "971014afcb9848718022114fc9941f1a",
    "deepnote_cell_type": "code",
    "deepnote_to_be_reexecuted": false,
    "execution_millis": 52,
    "execution_start": 1698124194093,
    "id": "NNeDlX4-Ohn5",
    "outputId": "6998b803-2259-4640-a4f6-44b93cdfc49b",
    "source_hash": null
   },
   "outputs": [
    {
     "name": "stdout",
     "output_type": "stream",
     "text": [
      "5 * 3 = 15\n"
     ]
    }
   ],
   "source": [
    "print('5 * 3 = ' + str(5*3))\n"
   ]
  },
  {
   "cell_type": "markdown",
   "metadata": {
    "cell_id": "63ab322c318d45ce922931137c2f457f",
    "deepnote_cell_type": "markdown",
    "id": "U2eMysa-Ohn5"
   },
   "source": [
    "## Conditionals"
   ]
  },
  {
   "cell_type": "markdown",
   "metadata": {
    "cell_id": "ab88cee5e00c443bb6257f7475234977",
    "deepnote_cell_type": "markdown",
    "id": "0GWqEXYbOhn6"
   },
   "source": [
    "Comparison with numerical values\n",
    "* x == y\n",
    "* x != y\n",
    "* x < y\n",
    "* x <= y\n",
    "* x > y\n",
    "* x >= y\n",
    "\n",
    "Comparison with strings\n",
    "* \"x\" == \"y\" -> if words are the same, return True. Else, return false\n",
    "* \"x\" != \"y\" -> if words are **not** the same, return True. Else, return false\n",
    "* \"x\" < \"y\" -> if string \"x\" has smaller Unicode value than string \"y\", return True\n",
    "* \"x\" <= \"y\" -> if string \"x\" has smaller or equal Unicode value than string \"y\", return True\n",
    "* \"x\" > \"y\" -> if string \"x\" has larger Unicode value than string \"y\", return True\n",
    "* \"x\" >= \"y\" -> if string \"x\" has large or equal than string \"y\", return True\n",
    "\n"
   ]
  },
  {
   "cell_type": "markdown",
   "metadata": {},
   "source": [
    "![alt text](<download (1).png>) [alt text](W9.ipynb)"
   ]
  },
  {
   "cell_type": "code",
   "execution_count": 6,
   "metadata": {
    "cell_id": "f43b536d0b584e85a7d9404ec95beb2c",
    "deepnote_cell_type": "code",
    "deepnote_to_be_reexecuted": false,
    "execution_millis": 60,
    "execution_start": 1698124194094,
    "id": "gBMm3wc9Ohn6",
    "outputId": "09fe833c-4bb2-4d18-ed63-b0f2cf5add25",
    "source_hash": null
   },
   "outputs": [
    {
     "name": "stdout",
     "output_type": "stream",
     "text": [
      "False\n",
      "tall\n",
      "True\n"
     ]
    },
    {
     "data": {
      "text/plain": [
       "65"
      ]
     },
     "execution_count": 6,
     "metadata": {},
     "output_type": "execute_result"
    }
   ],
   "source": [
    "print(\"tall\" < \"short\")\n",
    "\n",
    "print(chr(116)+chr(97)+chr(108)+chr(108))\n",
    "\n",
    "print('aab' < 'aac')\n",
    "\n",
    "ord('A')"
   ]
  },
  {
   "cell_type": "code",
   "execution_count": 7,
   "metadata": {
    "cell_id": "62af37cf2de94f4aa03a0795e029d69c",
    "deepnote_cell_type": "code",
    "deepnote_to_be_reexecuted": false,
    "execution_millis": 1557,
    "execution_start": 1698124194109,
    "id": "L7UmSV1hOhn6",
    "outputId": "a8da3a00-c92c-4b0e-d18e-9d592a34ce6e",
    "source_hash": null
   },
   "outputs": [
    {
     "name": "stdout",
     "output_type": "stream",
     "text": [
      "positive number\n"
     ]
    }
   ],
   "source": [
    "# basic if-elif-else\n",
    "\n",
    "x = 3\n",
    "if x == 0:\n",
    "    print('zero number')\n",
    "elif x < 0:\n",
    "    print('negative number')\n",
    "else:\n",
    "    print('positive number')"
   ]
  },
  {
   "cell_type": "markdown",
   "metadata": {
    "cell_id": "d7b4aef030c6401cb16eb48ff4fdcf01",
    "deepnote_cell_type": "markdown",
    "id": "mlQaMCd0Ohn7"
   },
   "source": [
    "## Functions"
   ]
  },
  {
   "cell_type": "code",
   "execution_count": 8,
   "metadata": {
    "cell_id": "e174473e078545aa8e64bba3df035df5",
    "deepnote_cell_type": "code",
    "deepnote_to_be_reexecuted": true,
    "execution_millis": 57,
    "execution_start": 1698040130436,
    "id": "UqTFx0wrOhn7",
    "outputId": "acbbb12d-1218-49fb-ac8a-c8d70eb96b82",
    "source_hash": null
   },
   "outputs": [
    {
     "name": "stdout",
     "output_type": "stream",
     "text": [
      "938\n"
     ]
    }
   ],
   "source": [
    "def find_total_days(years, months, days):\n",
    "    my_days = (years*365) + (months*30) + days\n",
    "    return my_days\n",
    "\n",
    "print(find_total_days(2,6,28))"
   ]
  },
  {
   "cell_type": "code",
   "execution_count": 9,
   "metadata": {
    "cell_id": "88270a123b5048abb9e00ee5dc9e56ff",
    "deepnote_cell_type": "code",
    "deepnote_to_be_reexecuted": true,
    "execution_millis": 17,
    "execution_start": 1698040202130,
    "id": "oogK5xx7Ohn7",
    "outputId": "73e62c72-67c6-4fee-f319-c8000a41af5e",
    "source_hash": null
   },
   "outputs": [
    {
     "name": "stdout",
     "output_type": "stream",
     "text": [
      "The volume in millimeters is 59.0\n",
      "The volume in millimeters is 118.0\n"
     ]
    }
   ],
   "source": [
    "def convert_volume(fluid_ounce):\n",
    "    ml = fluid_ounce * 29.5\n",
    "    # m11 = fluid_ounce * 35\n",
    "    return ml\n",
    "\n",
    "print(\"The volume in millimeters is \" + str(convert_volume(2)))\n",
    "print(\"The volume in millimeters is \" + str(convert_volume(2)*2))"
   ]
  },
  {
   "cell_type": "markdown",
   "metadata": {
    "cell_id": "ea7a9698d5e6496aa53775c40509e8bf",
    "deepnote_cell_type": "markdown",
    "id": "o9MZLx6cOhn7"
   },
   "source": [
    "# Packages in Python"
   ]
  },
  {
   "cell_type": "code",
   "execution_count": 11,
   "metadata": {},
   "outputs": [
    {
     "name": "stdout",
     "output_type": "stream",
     "text": [
      "Collecting pandas\n",
      "  Downloading pandas-2.2.2-cp312-cp312-win_amd64.whl.metadata (19 kB)\n",
      "Collecting numpy>=1.26.0 (from pandas)\n",
      "  Downloading numpy-1.26.4-cp312-cp312-win_amd64.whl.metadata (61 kB)\n",
      "     ---------------------------------------- 0.0/61.0 kB ? eta -:--:--\n",
      "     ------------------- ------------------ 30.7/61.0 kB 435.7 kB/s eta 0:00:01\n",
      "     -------------------------------------- 61.0/61.0 kB 819.4 kB/s eta 0:00:00\n",
      "Requirement already satisfied: python-dateutil>=2.8.2 in c:\\users\\darre\\appdata\\local\\programs\\python\\python312\\lib\\site-packages (from pandas) (2.9.0.post0)\n",
      "Collecting pytz>=2020.1 (from pandas)\n",
      "  Downloading pytz-2024.1-py2.py3-none-any.whl.metadata (22 kB)\n",
      "Collecting tzdata>=2022.7 (from pandas)\n",
      "  Downloading tzdata-2024.1-py2.py3-none-any.whl.metadata (1.4 kB)\n",
      "Requirement already satisfied: six>=1.5 in c:\\users\\darre\\appdata\\local\\programs\\python\\python312\\lib\\site-packages (from python-dateutil>=2.8.2->pandas) (1.16.0)\n",
      "Downloading pandas-2.2.2-cp312-cp312-win_amd64.whl (11.5 MB)\n",
      "   ---------------------------------------- 0.0/11.5 MB ? eta -:--:--\n",
      "    --------------------------------------- 0.2/11.5 MB 5.0 MB/s eta 0:00:03\n",
      "   - -------------------------------------- 0.3/11.5 MB 4.8 MB/s eta 0:00:03\n",
      "   - -------------------------------------- 0.5/11.5 MB 4.8 MB/s eta 0:00:03\n",
      "   --- ------------------------------------ 0.9/11.5 MB 5.5 MB/s eta 0:00:02\n",
      "   ---- ----------------------------------- 1.3/11.5 MB 6.7 MB/s eta 0:00:02\n",
      "   ----- ---------------------------------- 1.6/11.5 MB 6.8 MB/s eta 0:00:02\n",
      "   ------ --------------------------------- 1.8/11.5 MB 6.9 MB/s eta 0:00:02\n",
      "   -------- ------------------------------- 2.4/11.5 MB 7.1 MB/s eta 0:00:02\n",
      "   --------- ------------------------------ 2.8/11.5 MB 7.4 MB/s eta 0:00:02\n",
      "   ----------- ---------------------------- 3.3/11.5 MB 7.8 MB/s eta 0:00:02\n",
      "   ----------- ---------------------------- 3.4/11.5 MB 7.8 MB/s eta 0:00:02\n",
      "   ------------- -------------------------- 3.8/11.5 MB 7.5 MB/s eta 0:00:02\n",
      "   -------------- ------------------------- 4.2/11.5 MB 7.9 MB/s eta 0:00:01\n",
      "   ---------------- ----------------------- 4.7/11.5 MB 8.1 MB/s eta 0:00:01\n",
      "   ----------------- ---------------------- 5.1/11.5 MB 8.2 MB/s eta 0:00:01\n",
      "   ------------------- -------------------- 5.7/11.5 MB 8.4 MB/s eta 0:00:01\n",
      "   --------------------- ------------------ 6.1/11.5 MB 8.7 MB/s eta 0:00:01\n",
      "   ---------------------- ----------------- 6.5/11.5 MB 8.7 MB/s eta 0:00:01\n",
      "   ----------------------- ---------------- 6.8/11.5 MB 8.7 MB/s eta 0:00:01\n",
      "   ------------------------ --------------- 7.1/11.5 MB 8.6 MB/s eta 0:00:01\n",
      "   -------------------------- ------------- 7.6/11.5 MB 8.6 MB/s eta 0:00:01\n",
      "   --------------------------- ------------ 8.0/11.5 MB 8.8 MB/s eta 0:00:01\n",
      "   ----------------------------- ---------- 8.4/11.5 MB 8.8 MB/s eta 0:00:01\n",
      "   ------------------------------ --------- 8.8/11.5 MB 8.8 MB/s eta 0:00:01\n",
      "   ------------------------------- -------- 9.1/11.5 MB 8.8 MB/s eta 0:00:01\n",
      "   --------------------------------- ------ 9.5/11.5 MB 8.8 MB/s eta 0:00:01\n",
      "   ---------------------------------- ----- 10.0/11.5 MB 8.9 MB/s eta 0:00:01\n",
      "   ------------------------------------ --- 10.4/11.5 MB 9.1 MB/s eta 0:00:01\n",
      "   -------------------------------------- - 11.0/11.5 MB 9.5 MB/s eta 0:00:01\n",
      "   ---------------------------------------  11.4/11.5 MB 9.5 MB/s eta 0:00:01\n",
      "   ---------------------------------------- 11.5/11.5 MB 9.2 MB/s eta 0:00:00\n",
      "Downloading numpy-1.26.4-cp312-cp312-win_amd64.whl (15.5 MB)\n",
      "   ---------------------------------------- 0.0/15.5 MB ? eta -:--:--\n",
      "   - -------------------------------------- 0.4/15.5 MB 11.8 MB/s eta 0:00:02\n",
      "   -- ------------------------------------- 0.8/15.5 MB 10.6 MB/s eta 0:00:02\n",
      "   --- ------------------------------------ 1.2/15.5 MB 10.9 MB/s eta 0:00:02\n",
      "   ---- ----------------------------------- 1.6/15.5 MB 10.2 MB/s eta 0:00:02\n",
      "   ---- ----------------------------------- 1.9/15.5 MB 10.1 MB/s eta 0:00:02\n",
      "   ----- ---------------------------------- 2.1/15.5 MB 8.8 MB/s eta 0:00:02\n",
      "   ------ --------------------------------- 2.4/15.5 MB 8.5 MB/s eta 0:00:02\n",
      "   ------ --------------------------------- 2.7/15.5 MB 8.2 MB/s eta 0:00:02\n",
      "   ------ --------------------------------- 2.7/15.5 MB 8.2 MB/s eta 0:00:02\n",
      "   ------ --------------------------------- 2.7/15.5 MB 8.2 MB/s eta 0:00:02\n",
      "   ------ --------------------------------- 2.7/15.5 MB 8.2 MB/s eta 0:00:02\n",
      "   ------ --------------------------------- 2.7/15.5 MB 8.2 MB/s eta 0:00:02\n",
      "   ------ --------------------------------- 2.7/15.5 MB 8.2 MB/s eta 0:00:02\n",
      "   ------ --------------------------------- 2.7/15.5 MB 8.2 MB/s eta 0:00:02\n",
      "   ------ --------------------------------- 2.7/15.5 MB 8.2 MB/s eta 0:00:02\n",
      "   ------------ --------------------------- 4.7/15.5 MB 7.2 MB/s eta 0:00:02\n",
      "   --------------- ------------------------ 6.1/15.5 MB 8.8 MB/s eta 0:00:02\n",
      "   ----------------- ---------------------- 6.6/15.5 MB 8.8 MB/s eta 0:00:02\n",
      "   ------------------ --------------------- 7.0/15.5 MB 9.0 MB/s eta 0:00:01\n",
      "   ------------------- -------------------- 7.4/15.5 MB 8.9 MB/s eta 0:00:01\n",
      "   ------------------- -------------------- 7.7/15.5 MB 8.9 MB/s eta 0:00:01\n",
      "   -------------------- ------------------- 7.9/15.5 MB 8.9 MB/s eta 0:00:01\n",
      "   --------------------- ------------------ 8.3/15.5 MB 8.8 MB/s eta 0:00:01\n",
      "   --------------------- ------------------ 8.4/15.5 MB 8.7 MB/s eta 0:00:01\n",
      "   --------------------- ------------------ 8.5/15.5 MB 8.5 MB/s eta 0:00:01\n",
      "   ------------------------ --------------- 9.3/15.5 MB 8.6 MB/s eta 0:00:01\n",
      "   ------------------------- -------------- 9.7/15.5 MB 8.7 MB/s eta 0:00:01\n",
      "   ------------------------- -------------- 10.1/15.5 MB 8.7 MB/s eta 0:00:01\n",
      "   -------------------------- ------------- 10.4/15.5 MB 8.6 MB/s eta 0:00:01\n",
      "   --------------------------- ------------ 10.6/15.5 MB 8.5 MB/s eta 0:00:01\n",
      "   ---------------------------- ----------- 11.0/15.5 MB 8.3 MB/s eta 0:00:01\n",
      "   ----------------------------- ---------- 11.3/15.5 MB 8.3 MB/s eta 0:00:01\n",
      "   ------------------------------ --------- 11.7/15.5 MB 8.3 MB/s eta 0:00:01\n",
      "   ------------------------------- -------- 12.2/15.5 MB 8.4 MB/s eta 0:00:01\n",
      "   -------------------------------- ------- 12.5/15.5 MB 8.6 MB/s eta 0:00:01\n",
      "   --------------------------------- ------ 12.8/15.5 MB 8.6 MB/s eta 0:00:01\n",
      "   ---------------------------------- ----- 13.2/15.5 MB 11.3 MB/s eta 0:00:01\n",
      "   ----------------------------------- ---- 13.6/15.5 MB 11.1 MB/s eta 0:00:01\n",
      "   ----------------------------------- ---- 13.9/15.5 MB 10.6 MB/s eta 0:00:01\n",
      "   ------------------------------------ --- 14.3/15.5 MB 10.1 MB/s eta 0:00:01\n",
      "   ------------------------------------- -- 14.7/15.5 MB 9.8 MB/s eta 0:00:01\n",
      "   -------------------------------------- - 15.1/15.5 MB 9.4 MB/s eta 0:00:01\n",
      "   ---------------------------------------  15.4/15.5 MB 9.1 MB/s eta 0:00:01\n",
      "   ---------------------------------------  15.5/15.5 MB 8.8 MB/s eta 0:00:01\n",
      "   ---------------------------------------- 15.5/15.5 MB 8.6 MB/s eta 0:00:00\n",
      "Downloading pytz-2024.1-py2.py3-none-any.whl (505 kB)\n",
      "   ---------------------------------------- 0.0/505.5 kB ? eta -:--:--\n",
      "   ---------------------- ----------------- 286.7/505.5 kB 8.6 MB/s eta 0:00:01\n",
      "   ---------------------------------------- 505.5/505.5 kB 5.3 MB/s eta 0:00:00\n",
      "Downloading tzdata-2024.1-py2.py3-none-any.whl (345 kB)\n",
      "   ---------------------------------------- 0.0/345.4 kB ? eta -:--:--\n",
      "   ---------------------------------------- 345.4/345.4 kB 7.1 MB/s eta 0:00:00\n",
      "Installing collected packages: pytz, tzdata, numpy, pandas\n",
      "Successfully installed numpy-1.26.4 pandas-2.2.2 pytz-2024.1 tzdata-2024.1\n",
      "Note: you may need to restart the kernel to use updated packages.\n"
     ]
    }
   ],
   "source": [
    "pip install pandas"
   ]
  },
  {
   "cell_type": "code",
   "execution_count": 12,
   "metadata": {},
   "outputs": [
    {
     "name": "stdout",
     "output_type": "stream",
     "text": [
      "Requirement already satisfied: numpy in c:\\users\\darre\\appdata\\local\\programs\\python\\python312\\lib\\site-packages (1.26.4)\n",
      "Note: you may need to restart the kernel to use updated packages.\n"
     ]
    }
   ],
   "source": [
    "pip install numpy"
   ]
  },
  {
   "cell_type": "code",
   "execution_count": 13,
   "metadata": {},
   "outputs": [
    {
     "name": "stdout",
     "output_type": "stream",
     "text": [
      "Collecting matplotlib\n",
      "  Downloading matplotlib-3.8.4-cp312-cp312-win_amd64.whl.metadata (5.9 kB)\n",
      "Collecting contourpy>=1.0.1 (from matplotlib)\n",
      "  Downloading contourpy-1.2.1-cp312-cp312-win_amd64.whl.metadata (5.8 kB)\n",
      "Collecting cycler>=0.10 (from matplotlib)\n",
      "  Downloading cycler-0.12.1-py3-none-any.whl.metadata (3.8 kB)\n",
      "Collecting fonttools>=4.22.0 (from matplotlib)\n",
      "  Downloading fonttools-4.51.0-cp312-cp312-win_amd64.whl.metadata (162 kB)\n",
      "     ---------------------------------------- 0.0/162.8 kB ? eta -:--:--\n",
      "     --------- --------------------------- 41.0/162.8 kB 991.0 kB/s eta 0:00:01\n",
      "     ----------------------------------- -- 153.6/162.8 kB 1.8 MB/s eta 0:00:01\n",
      "     -------------------------------------- 162.8/162.8 kB 1.6 MB/s eta 0:00:00\n",
      "Collecting kiwisolver>=1.3.1 (from matplotlib)\n",
      "  Downloading kiwisolver-1.4.5-cp312-cp312-win_amd64.whl.metadata (6.5 kB)\n",
      "Requirement already satisfied: numpy>=1.21 in c:\\users\\darre\\appdata\\local\\programs\\python\\python312\\lib\\site-packages (from matplotlib) (1.26.4)\n",
      "Requirement already satisfied: packaging>=20.0 in c:\\users\\darre\\appdata\\local\\programs\\python\\python312\\lib\\site-packages (from matplotlib) (24.0)\n",
      "Collecting pillow>=8 (from matplotlib)\n",
      "  Downloading pillow-10.3.0-cp312-cp312-win_amd64.whl.metadata (9.4 kB)\n",
      "Collecting pyparsing>=2.3.1 (from matplotlib)\n",
      "  Downloading pyparsing-3.1.2-py3-none-any.whl.metadata (5.1 kB)\n",
      "Requirement already satisfied: python-dateutil>=2.7 in c:\\users\\darre\\appdata\\local\\programs\\python\\python312\\lib\\site-packages (from matplotlib) (2.9.0.post0)\n",
      "Requirement already satisfied: six>=1.5 in c:\\users\\darre\\appdata\\local\\programs\\python\\python312\\lib\\site-packages (from python-dateutil>=2.7->matplotlib) (1.16.0)\n",
      "Downloading matplotlib-3.8.4-cp312-cp312-win_amd64.whl (7.7 MB)\n",
      "   ---------------------------------------- 0.0/7.7 MB ? eta -:--:--\n",
      "   - -------------------------------------- 0.2/7.7 MB 5.0 MB/s eta 0:00:02\n",
      "   -- ------------------------------------- 0.5/7.7 MB 5.1 MB/s eta 0:00:02\n",
      "   ---- ----------------------------------- 0.8/7.7 MB 5.7 MB/s eta 0:00:02\n",
      "   ----- ---------------------------------- 1.0/7.7 MB 6.0 MB/s eta 0:00:02\n",
      "   ------- -------------------------------- 1.4/7.7 MB 6.1 MB/s eta 0:00:02\n",
      "   -------- ------------------------------- 1.7/7.7 MB 6.2 MB/s eta 0:00:01\n",
      "   ---------- ----------------------------- 2.0/7.7 MB 6.6 MB/s eta 0:00:01\n",
      "   ------------ --------------------------- 2.3/7.7 MB 6.7 MB/s eta 0:00:01\n",
      "   ------------ --------------------------- 2.5/7.7 MB 6.6 MB/s eta 0:00:01\n",
      "   -------------- ------------------------- 2.8/7.7 MB 6.7 MB/s eta 0:00:01\n",
      "   ---------------- ----------------------- 3.2/7.7 MB 6.7 MB/s eta 0:00:01\n",
      "   ------------------ --------------------- 3.5/7.7 MB 6.8 MB/s eta 0:00:01\n",
      "   -------------------- ------------------- 3.9/7.7 MB 7.0 MB/s eta 0:00:01\n",
      "   --------------------- ------------------ 4.1/7.7 MB 6.9 MB/s eta 0:00:01\n",
      "   --------------------- ------------------ 4.2/7.7 MB 7.0 MB/s eta 0:00:01\n",
      "   ----------------------- ---------------- 4.5/7.7 MB 6.5 MB/s eta 0:00:01\n",
      "   ------------------------- -------------- 4.8/7.7 MB 6.5 MB/s eta 0:00:01\n",
      "   -------------------------- ------------- 5.1/7.7 MB 6.7 MB/s eta 0:00:01\n",
      "   --------------------------- ------------ 5.2/7.7 MB 6.2 MB/s eta 0:00:01\n",
      "   ---------------------------- ----------- 5.4/7.7 MB 6.4 MB/s eta 0:00:01\n",
      "   ---------------------------- ----------- 5.5/7.7 MB 6.1 MB/s eta 0:00:01\n",
      "   ----------------------------- ---------- 5.7/7.7 MB 6.0 MB/s eta 0:00:01\n",
      "   ------------------------------- -------- 6.1/7.7 MB 6.1 MB/s eta 0:00:01\n",
      "   --------------------------------- ------ 6.3/7.7 MB 6.1 MB/s eta 0:00:01\n",
      "   ---------------------------------- ----- 6.5/7.7 MB 6.0 MB/s eta 0:00:01\n",
      "   ---------------------------------- ----- 6.7/7.7 MB 6.1 MB/s eta 0:00:01\n",
      "   ----------------------------------- ---- 6.9/7.7 MB 6.0 MB/s eta 0:00:01\n",
      "   ------------------------------------- -- 7.3/7.7 MB 6.0 MB/s eta 0:00:01\n",
      "   ---------------------------------------  7.6/7.7 MB 6.0 MB/s eta 0:00:01\n",
      "   ---------------------------------------- 7.7/7.7 MB 5.9 MB/s eta 0:00:00\n",
      "Downloading contourpy-1.2.1-cp312-cp312-win_amd64.whl (189 kB)\n",
      "   ---------------------------------------- 0.0/189.9 kB ? eta -:--:--\n",
      "   -------------------------------------- - 184.3/189.9 kB 5.6 MB/s eta 0:00:01\n",
      "   ---------------------------------------- 189.9/189.9 kB 3.8 MB/s eta 0:00:00\n",
      "Downloading cycler-0.12.1-py3-none-any.whl (8.3 kB)\n",
      "Downloading fonttools-4.51.0-cp312-cp312-win_amd64.whl (2.2 MB)\n",
      "   ---------------------------------------- 0.0/2.2 MB ? eta -:--:--\n",
      "   -------- ------------------------------- 0.5/2.2 MB 9.4 MB/s eta 0:00:01\n",
      "   ------------ --------------------------- 0.7/2.2 MB 7.1 MB/s eta 0:00:01\n",
      "   ------------------- -------------------- 1.0/2.2 MB 7.3 MB/s eta 0:00:01\n",
      "   ---------------------- ----------------- 1.2/2.2 MB 6.5 MB/s eta 0:00:01\n",
      "   --------------------------- ------------ 1.5/2.2 MB 6.3 MB/s eta 0:00:01\n",
      "   -------------------------------- ------- 1.8/2.2 MB 6.3 MB/s eta 0:00:01\n",
      "   ------------------------------------- -- 2.0/2.2 MB 6.1 MB/s eta 0:00:01\n",
      "   ---------------------------------------- 2.2/2.2 MB 6.3 MB/s eta 0:00:00\n",
      "Downloading kiwisolver-1.4.5-cp312-cp312-win_amd64.whl (56 kB)\n",
      "   ---------------------------------------- 0.0/56.0 kB ? eta -:--:--\n",
      "   ---------------------------------------- 56.0/56.0 kB 2.9 MB/s eta 0:00:00\n",
      "Downloading pillow-10.3.0-cp312-cp312-win_amd64.whl (2.5 MB)\n",
      "   ---------------------------------------- 0.0/2.5 MB ? eta -:--:--\n",
      "   ---- ----------------------------------- 0.3/2.5 MB 17.3 MB/s eta 0:00:01\n",
      "   ----- ---------------------------------- 0.3/2.5 MB 4.2 MB/s eta 0:00:01\n",
      "   ------- -------------------------------- 0.5/2.5 MB 5.2 MB/s eta 0:00:01\n",
      "   ----------- ---------------------------- 0.7/2.5 MB 4.4 MB/s eta 0:00:01\n",
      "   --------------- ------------------------ 1.0/2.5 MB 4.6 MB/s eta 0:00:01\n",
      "   ------------------- -------------------- 1.3/2.5 MB 5.0 MB/s eta 0:00:01\n",
      "   ------------------------ --------------- 1.6/2.5 MB 5.5 MB/s eta 0:00:01\n",
      "   ---------------------------- ----------- 1.8/2.5 MB 5.5 MB/s eta 0:00:01\n",
      "   ---------------------------------- ----- 2.2/2.5 MB 5.7 MB/s eta 0:00:01\n",
      "   -------------------------------------- - 2.4/2.5 MB 6.0 MB/s eta 0:00:01\n",
      "   ---------------------------------------- 2.5/2.5 MB 5.6 MB/s eta 0:00:00\n",
      "Downloading pyparsing-3.1.2-py3-none-any.whl (103 kB)\n",
      "   ---------------------------------------- 0.0/103.2 kB ? eta -:--:--\n",
      "   ---------------------------------------- 103.2/103.2 kB ? eta 0:00:00\n",
      "Installing collected packages: pyparsing, pillow, kiwisolver, fonttools, cycler, contourpy, matplotlib\n",
      "Successfully installed contourpy-1.2.1 cycler-0.12.1 fonttools-4.51.0 kiwisolver-1.4.5 matplotlib-3.8.4 pillow-10.3.0 pyparsing-3.1.2\n",
      "Note: you may need to restart the kernel to use updated packages.\n"
     ]
    }
   ],
   "source": [
    "pip install matplotlib"
   ]
  },
  {
   "cell_type": "code",
   "execution_count": 14,
   "metadata": {},
   "outputs": [
    {
     "name": "stdout",
     "output_type": "stream",
     "text": [
      "Collecting seaborn\n",
      "  Downloading seaborn-0.13.2-py3-none-any.whl.metadata (5.4 kB)\n",
      "Requirement already satisfied: numpy!=1.24.0,>=1.20 in c:\\users\\darre\\appdata\\local\\programs\\python\\python312\\lib\\site-packages (from seaborn) (1.26.4)\n",
      "Requirement already satisfied: pandas>=1.2 in c:\\users\\darre\\appdata\\local\\programs\\python\\python312\\lib\\site-packages (from seaborn) (2.2.2)\n",
      "Requirement already satisfied: matplotlib!=3.6.1,>=3.4 in c:\\users\\darre\\appdata\\local\\programs\\python\\python312\\lib\\site-packages (from seaborn) (3.8.4)\n",
      "Requirement already satisfied: contourpy>=1.0.1 in c:\\users\\darre\\appdata\\local\\programs\\python\\python312\\lib\\site-packages (from matplotlib!=3.6.1,>=3.4->seaborn) (1.2.1)\n",
      "Requirement already satisfied: cycler>=0.10 in c:\\users\\darre\\appdata\\local\\programs\\python\\python312\\lib\\site-packages (from matplotlib!=3.6.1,>=3.4->seaborn) (0.12.1)\n",
      "Requirement already satisfied: fonttools>=4.22.0 in c:\\users\\darre\\appdata\\local\\programs\\python\\python312\\lib\\site-packages (from matplotlib!=3.6.1,>=3.4->seaborn) (4.51.0)\n",
      "Requirement already satisfied: kiwisolver>=1.3.1 in c:\\users\\darre\\appdata\\local\\programs\\python\\python312\\lib\\site-packages (from matplotlib!=3.6.1,>=3.4->seaborn) (1.4.5)\n",
      "Requirement already satisfied: packaging>=20.0 in c:\\users\\darre\\appdata\\local\\programs\\python\\python312\\lib\\site-packages (from matplotlib!=3.6.1,>=3.4->seaborn) (24.0)\n",
      "Requirement already satisfied: pillow>=8 in c:\\users\\darre\\appdata\\local\\programs\\python\\python312\\lib\\site-packages (from matplotlib!=3.6.1,>=3.4->seaborn) (10.3.0)\n",
      "Requirement already satisfied: pyparsing>=2.3.1 in c:\\users\\darre\\appdata\\local\\programs\\python\\python312\\lib\\site-packages (from matplotlib!=3.6.1,>=3.4->seaborn) (3.1.2)\n",
      "Requirement already satisfied: python-dateutil>=2.7 in c:\\users\\darre\\appdata\\local\\programs\\python\\python312\\lib\\site-packages (from matplotlib!=3.6.1,>=3.4->seaborn) (2.9.0.post0)\n",
      "Requirement already satisfied: pytz>=2020.1 in c:\\users\\darre\\appdata\\local\\programs\\python\\python312\\lib\\site-packages (from pandas>=1.2->seaborn) (2024.1)\n",
      "Requirement already satisfied: tzdata>=2022.7 in c:\\users\\darre\\appdata\\local\\programs\\python\\python312\\lib\\site-packages (from pandas>=1.2->seaborn) (2024.1)\n",
      "Requirement already satisfied: six>=1.5 in c:\\users\\darre\\appdata\\local\\programs\\python\\python312\\lib\\site-packages (from python-dateutil>=2.7->matplotlib!=3.6.1,>=3.4->seaborn) (1.16.0)\n",
      "Downloading seaborn-0.13.2-py3-none-any.whl (294 kB)\n",
      "   ---------------------------------------- 0.0/294.9 kB ? eta -:--:--\n",
      "   - -------------------------------------- 10.2/294.9 kB ? eta -:--:--\n",
      "   --------- ----------------------------- 71.7/294.9 kB 975.2 kB/s eta 0:00:01\n",
      "   ------------------------------------- -- 276.5/294.9 kB 2.4 MB/s eta 0:00:01\n",
      "   ---------------------------------------- 294.9/294.9 kB 2.0 MB/s eta 0:00:00\n",
      "Installing collected packages: seaborn\n",
      "Successfully installed seaborn-0.13.2\n",
      "Note: you may need to restart the kernel to use updated packages.\n"
     ]
    }
   ],
   "source": [
    "pip install seaborn"
   ]
  },
  {
   "cell_type": "code",
   "execution_count": 10,
   "metadata": {
    "cell_id": "f40b76967067448aa8f0a26c1fd4af44",
    "deepnote_cell_type": "code",
    "deepnote_to_be_reexecuted": true,
    "id": "U40xYrEPOhn8",
    "source_hash": null
   },
   "outputs": [
    {
     "ename": "SyntaxError",
     "evalue": "invalid syntax (2374496500.py, line 4)",
     "output_type": "error",
     "traceback": [
      "\u001b[1;36m  Cell \u001b[1;32mIn[10], line 4\u001b[1;36m\u001b[0m\n\u001b[1;33m    pip install pandas\u001b[0m\n\u001b[1;37m        ^\u001b[0m\n\u001b[1;31mSyntaxError\u001b[0m\u001b[1;31m:\u001b[0m invalid syntax\n"
     ]
    }
   ],
   "source": [
    "# cara install\n",
    "# pip install nama_packages\n",
    "\n",
    "# pip install pandas\n",
    "# pip install numpy\n",
    "# pip install matplotlib\n",
    "# pip install seaborn"
   ]
  },
  {
   "cell_type": "markdown",
   "metadata": {
    "cell_id": "fa239f59c2994e529a5862a4bd07e588",
    "deepnote_cell_type": "markdown",
    "id": "TA3njha1Ohn8"
   },
   "source": [
    "cara manggil packages\n",
    "import **nama packages** as **singkatan**\n",
    "\n",
    "biasa packages ada singkatan nya sendiri\n",
    "\n",
    "* numpy -> np\n",
    "* pandas -> pd\n",
    "* tensorflow -> tf\n",
    "* matplotlib.pyplot -> plt\n",
    "* seaborn -> sns"
   ]
  },
  {
   "cell_type": "code",
   "execution_count": 16,
   "metadata": {
    "cell_id": "dc98b3b0265d4ced8425cd9f2b651bce",
    "deepnote_cell_type": "code",
    "deepnote_to_be_reexecuted": false,
    "execution_millis": 11,
    "execution_start": 1698124245892,
    "id": "DubIIYiwOhn8",
    "outputId": "cdae1c4e-51e0-4bb9-84b3-0f16c29677cc",
    "source_hash": null
   },
   "outputs": [],
   "source": [
    "import pandas as pd\n",
    "import numpy as np"
   ]
  },
  {
   "cell_type": "markdown",
   "metadata": {
    "cell_id": "dc00738e179340b8ae083984f331c364",
    "deepnote_cell_type": "markdown",
    "id": "ooA4-vK4Ohn8"
   },
   "source": [
    "# Numpy\n",
    "https://numpy.org/doc/stable/reference/routines.html"
   ]
  },
  {
   "cell_type": "code",
   "execution_count": 17,
   "metadata": {
    "cell_id": "7499bfa5a65b42418dd7fc2010252ff0",
    "deepnote_cell_type": "code",
    "deepnote_to_be_reexecuted": false,
    "execution_millis": 25,
    "execution_start": 1698124606079,
    "id": "1e1TIsG3Ohn8",
    "outputId": "96544f9f-4bd6-419a-ef48-2beff5a0dbcf",
    "source_hash": null
   },
   "outputs": [
    {
     "name": "stdout",
     "output_type": "stream",
     "text": [
      "1\n",
      "1.0\n",
      "2.0\n",
      "1.0\n",
      "[1. 2. 3. 4. 6.]\n",
      "[1.2 2.3 3.4 4.5 5.6]\n",
      "17.0\n",
      "236.47679999999994\n",
      "[1.1 1.1 1.1 1.1]\n"
     ]
    }
   ],
   "source": [
    "x=1.34\n",
    "a = [1.2,2.3,3.4,4.5,5.6]\n",
    "#Rounding\n",
    "print(round(x))\n",
    "print(np.floor(x))\n",
    "print(np.ceil(x))\n",
    "print(np.trunc(x))\n",
    "print(np.around(a))\n",
    "#membuat array\n",
    "b = np.array (a)\n",
    "print (b)\n",
    "#Sum, Product, Differences\n",
    "print(sum(b))\n",
    "print(np.prod(b))\n",
    "print(np.diff(b))"
   ]
  },
  {
   "cell_type": "code",
   "execution_count": 18,
   "metadata": {},
   "outputs": [
    {
     "name": "stdout",
     "output_type": "stream",
     "text": [
      "[1. 2. 3. 4. 6.]\n"
     ]
    }
   ],
   "source": [
    "print(np.round(a))"
   ]
  },
  {
   "cell_type": "code",
   "execution_count": 21,
   "metadata": {
    "id": "gZDn84aHOhn9",
    "outputId": "e493696e-0865-4d45-f87f-9a2ff2108158"
   },
   "outputs": [
    {
     "ename": "AttributeError",
     "evalue": "'list' object has no attribute 'shape'",
     "output_type": "error",
     "traceback": [
      "\u001b[1;31m---------------------------------------------------------------------------\u001b[0m",
      "\u001b[1;31mAttributeError\u001b[0m                            Traceback (most recent call last)",
      "Cell \u001b[1;32mIn[21], line 2\u001b[0m\n\u001b[0;32m      1\u001b[0m c \u001b[38;5;241m=\u001b[39m [\u001b[38;5;241m1\u001b[39m,\u001b[38;5;241m2\u001b[39m,\u001b[38;5;241m3\u001b[39m,\u001b[38;5;241m4\u001b[39m,\u001b[38;5;241m5\u001b[39m]\n\u001b[1;32m----> 2\u001b[0m \u001b[43mc\u001b[49m\u001b[38;5;241;43m.\u001b[39;49m\u001b[43mshape\u001b[49m\n",
      "\u001b[1;31mAttributeError\u001b[0m: 'list' object has no attribute 'shape'"
     ]
    }
   ],
   "source": [
    "c = [1,2,3,4,5]\n",
    "c.shape"
   ]
  },
  {
   "cell_type": "code",
   "execution_count": 22,
   "metadata": {
    "cell_id": "8f3e159dfe2e4154af5c9147768e69e6",
    "deepnote_cell_type": "code",
    "deepnote_to_be_reexecuted": true,
    "execution_millis": 26,
    "execution_start": 1698123044975,
    "id": "fwiPB7mhOhn9",
    "outputId": "7eb51642-ebbe-44f5-bb8e-26e9a0f2eebd",
    "source_hash": null
   },
   "outputs": [
    {
     "name": "stdout",
     "output_type": "stream",
     "text": [
      "(5,)\n",
      "float64\n"
     ]
    }
   ],
   "source": [
    "print(b.shape)\n",
    "print(b.dtype)\n"
   ]
  },
  {
   "cell_type": "code",
   "execution_count": 23,
   "metadata": {
    "cell_id": "264bc59e17484b97b04c144aa849152a",
    "deepnote_cell_type": "code",
    "deepnote_to_be_reexecuted": true,
    "execution_millis": 23,
    "execution_start": 1698123087214,
    "id": "AJsFleWuOhn-",
    "outputId": "201827f1-d0b5-41cf-c024-2b11997b8f15",
    "source_hash": null
   },
   "outputs": [
    {
     "name": "stdout",
     "output_type": "stream",
     "text": [
      "[[ 1.+0.j  2.+0.j  3.+0.j  4.+0.j  5.+0.j  6.+0.j  7.+0.j  8.+0.j  9.+0.j\n",
      "  10.+0.j]]\n",
      "(1, 10)\n",
      "complex128\n"
     ]
    }
   ],
   "source": [
    "a = np.array([1,2,3,4,5,6,7,8,9,10],ndmin=2,dtype=complex)\n",
    "print(a)\n",
    "print(a.shape) #1 row 10 column\n",
    "print(a.dtype)"
   ]
  },
  {
   "cell_type": "code",
   "execution_count": 24,
   "metadata": {
    "cell_id": "4f8e8955c91b48dd8610f9c76ac86c12",
    "deepnote_cell_type": "code",
    "deepnote_to_be_reexecuted": true,
    "execution_millis": 25,
    "execution_start": 1698123224041,
    "id": "aF8zqWxhOhn-",
    "outputId": "43926069-30bc-4d11-c471-101e8be72dbb",
    "source_hash": null
   },
   "outputs": [
    {
     "name": "stdout",
     "output_type": "stream",
     "text": [
      "[[1 2 3]\n",
      " [4 5 6]]\n",
      "[[1 2]\n",
      " [3 4]\n",
      " [5 6]]\n",
      "\n",
      "\n",
      "[[ 1  2  3]\n",
      " [ 4  5  6]\n",
      " [ 7  8  9]\n",
      " [10 11 12]]\n",
      "[[ 1  2  3]\n",
      " [ 4  5  6]\n",
      " [ 7  8  9]\n",
      " [10 11 12]]\n",
      "(4, 3)\n",
      "<class 'numpy.matrix'>\n",
      "<class 'numpy.ndarray'>\n",
      "<class 'numpy.ndarray'>\n"
     ]
    },
    {
     "data": {
      "text/plain": [
       "8"
      ]
     },
     "execution_count": 24,
     "metadata": {},
     "output_type": "execute_result"
    }
   ],
   "source": [
    "a = np.array([[1,2,3],[4,5,6]]) #2dimenion\n",
    "print (a)\n",
    "a.shape #2 row 3 column\n",
    "a.shape = (3,2)\n",
    "print(a)\n",
    "print('\\n')\n",
    "c = np.array([[1,2,3],[4,5,6],[7,8,9],[10,11,12]]) #2dimention\n",
    "print (c)\n",
    "print(np.asmatrix(c))\n",
    "print(c.shape) #4 rows 3 columns\n",
    "d = np.asmatrix(c)\n",
    "print(type(d))\n",
    "print(type(c))\n",
    "print(type(a))\n",
    "c[2,1]"
   ]
  },
  {
   "cell_type": "code",
   "execution_count": 25,
   "metadata": {
    "id": "NiFmZVJ6Ohn-",
    "outputId": "bfa11d91-8bb3-40f0-9171-3e98c4656eff"
   },
   "outputs": [
    {
     "name": "stdout",
     "output_type": "stream",
     "text": [
      "[[1 2 3]\n",
      " [4 5 6]]\n",
      "[[1 4]\n",
      " [2 5]\n",
      " [3 6]]\n"
     ]
    }
   ],
   "source": [
    "a = np.array([[1,2,3], [4,5,6]])\n",
    "b = np.swapaxes(a,1,0)\n",
    "print(a)\n",
    "print(b)"
   ]
  },
  {
   "cell_type": "code",
   "execution_count": 26,
   "metadata": {
    "cell_id": "425f2dc040124362b03c433c74f46c7b",
    "deepnote_cell_type": "code",
    "deepnote_to_be_reexecuted": true,
    "execution_millis": 20,
    "execution_start": 1698123262913,
    "id": "xnlYwQG7Ohn-",
    "source_hash": null
   },
   "outputs": [
    {
     "name": "stdout",
     "output_type": "stream",
     "text": [
      "[[[ 1  2  3]\n",
      "  [ 4  5  6]]\n",
      "\n",
      " [[ 7  8  9]\n",
      "  [10 11 12]]]\n",
      "(2, 2, 3)\n"
     ]
    }
   ],
   "source": [
    "d = np.array([[[1,2,3],[4,5,6]],[[7,8,9],[10,11,12]]]) #2dimention\n",
    "print (d)\n",
    "print(d.shape) #2 manages 2 rows 3 columns"
   ]
  },
  {
   "cell_type": "markdown",
   "metadata": {
    "cell_id": "9474f1805fa34db7952997a910581415",
    "deepnote_cell_type": "markdown",
    "id": "wpbNieMmOhn_"
   },
   "source": [
    "# Pandas\n",
    "https://pandas.pydata.org/docs/reference/index.html\n"
   ]
  },
  {
   "cell_type": "code",
   "execution_count": null,
   "metadata": {
    "cell_id": "19d217ebfe234cbcae0cc43f8099f663",
    "deepnote_cell_type": "code",
    "deepnote_to_be_reexecuted": true,
    "execution_millis": 2630,
    "execution_start": 1698118934064,
    "id": "lB8wuaZ2Ohn_",
    "outputId": "2e9c7aaf-c45e-4050-c386-9d7b58152a8e",
    "source_hash": null
   },
   "outputs": [],
   "source": [
    "data = pd.read_csv('train_features_complete.csv')\n",
    "\n",
    "data.head()"
   ]
  },
  {
   "cell_type": "code",
   "execution_count": null,
   "metadata": {
    "cell_id": "cadaf0ab1f1744baafc93f7a583876f2",
    "deepnote_cell_type": "code",
    "deepnote_to_be_reexecuted": true,
    "execution_millis": 410,
    "execution_start": 1698119053172,
    "id": "TGyOCuy4Ohn_",
    "outputId": "dc3c0e92-f465-456c-936a-6bd1618026ab",
    "source_hash": null
   },
   "outputs": [],
   "source": [
    "df = data.copy()\n",
    "df = df.drop(columns = ['highway','lit','maxspeed','name','ref'], axis = 1)\n",
    "df.head()"
   ]
  },
  {
   "cell_type": "code",
   "execution_count": null,
   "metadata": {
    "cell_id": "ca0807bd4c574c7e83e28ffeb2bc9266",
    "deepnote_cell_type": "code",
    "deepnote_to_be_reexecuted": true,
    "execution_millis": 89,
    "execution_start": 1698119101206,
    "id": "Y_4aLs9ROhn_",
    "outputId": "09d3ac8e-f197-425c-817c-dde118c8e7b0",
    "source_hash": null
   },
   "outputs": [],
   "source": [
    "df['rerata_kecepatan'].describe()"
   ]
  },
  {
   "cell_type": "code",
   "execution_count": null,
   "metadata": {
    "cell_id": "74dbbb68fc334830b43b7d3f822fd524",
    "deepnote_cell_type": "code",
    "deepnote_to_be_reexecuted": true,
    "execution_millis": 7151,
    "execution_start": 1698119239861,
    "id": "funN1EXlOhn_",
    "source_hash": null
   },
   "outputs": [],
   "source": [
    "df.to_csv('df.csv', index = False)"
   ]
  },
  {
   "cell_type": "code",
   "execution_count": null,
   "metadata": {
    "cell_id": "2f04db16d7664961a5ae9b26d569e12b",
    "deepnote_cell_type": "code",
    "deepnote_to_be_reexecuted": true,
    "execution_millis": 1008,
    "execution_start": 1698119295580,
    "id": "m8njdFDHOhoA",
    "outputId": "8c1e8426-829a-48c2-ca6d-6ab893d6f95b",
    "source_hash": null
   },
   "outputs": [],
   "source": [
    "pd.read_csv('df.csv')"
   ]
  },
  {
   "cell_type": "code",
   "execution_count": null,
   "metadata": {
    "cell_id": "3c0383cd7a7e4c47868c467bb1ba6a7c",
    "deepnote_cell_type": "code",
    "deepnote_to_be_reexecuted": true,
    "execution_millis": 11372,
    "execution_start": 1698119271809,
    "id": "7o7_V_ioOhoA",
    "source_hash": null
   },
   "outputs": [],
   "source": [
    "df.to_csv('df1.csv', index = True)"
   ]
  },
  {
   "cell_type": "code",
   "execution_count": null,
   "metadata": {
    "cell_id": "6470cf732c124460a0237ca55b29204d",
    "deepnote_cell_type": "code",
    "deepnote_to_be_reexecuted": true,
    "execution_millis": 1521,
    "execution_start": 1698119310307,
    "id": "nPP6BA1aOhoA",
    "outputId": "50f78aa3-79a5-46ea-fefb-36f50d36a348",
    "source_hash": null
   },
   "outputs": [],
   "source": [
    "pd.read_csv('df1.csv')"
   ]
  },
  {
   "cell_type": "code",
   "execution_count": null,
   "metadata": {
    "cell_id": "faf4d72aae6245e5a1f7d85a6639dc94",
    "deepnote_cell_type": "code",
    "deepnote_to_be_reexecuted": true,
    "execution_millis": 9993,
    "execution_start": 1698118719775,
    "id": "qSKGWZWXOhoA",
    "source_hash": null
   },
   "outputs": [],
   "source": [
    "pip install openpyxl"
   ]
  },
  {
   "cell_type": "code",
   "execution_count": null,
   "metadata": {
    "cell_id": "53041b8104694e3d8837ffb1579924e5",
    "deepnote_cell_type": "code",
    "deepnote_to_be_reexecuted": true,
    "execution_millis": 1603,
    "execution_start": 1698118736494,
    "id": "CgdqaAyYOhoA",
    "outputId": "d060a68f-3977-4a5b-ad81-dffc880864a8",
    "source_hash": null
   },
   "outputs": [],
   "source": [
    "data1 = pd.read_excel('cuaca_test.xlsx')\n",
    "data1.head()\n"
   ]
  },
  {
   "cell_type": "code",
   "execution_count": null,
   "metadata": {
    "cell_id": "ce59ecf41a444e38a932a432cda4f798",
    "deepnote_cell_type": "code",
    "deepnote_to_be_reexecuted": true,
    "execution_millis": 845,
    "execution_start": 1698118742222,
    "id": "jdacAjFnOhoE",
    "outputId": "f56eb7fe-8285-4ab6-d583-285780666f6f",
    "source_hash": null
   },
   "outputs": [],
   "source": [
    "data2 = pd.read_excel('cuaca_train.xlsx')\n",
    "data2.head()"
   ]
  },
  {
   "cell_type": "code",
   "execution_count": null,
   "metadata": {
    "cell_id": "ee34d09f60574ed3ba605fa54fdc8303",
    "deepnote_cell_type": "code",
    "deepnote_to_be_reexecuted": true,
    "execution_millis": 161,
    "execution_start": 1698118816561,
    "id": "reLjX-k7OhoF",
    "outputId": "3093233a-d919-4094-b1f2-be4a89705db1",
    "source_hash": null
   },
   "outputs": [],
   "source": [
    "data_gabung = pd.concat([data2,data1], axis = 0)\n",
    "data_gabung.head()"
   ]
  },
  {
   "cell_type": "code",
   "execution_count": null,
   "metadata": {
    "id": "BDVv2hRgOhoF",
    "outputId": "663b4411-0000-4652-9a3a-169a25f0d87c"
   },
   "outputs": [],
   "source": [
    "data_gabung"
   ]
  },
  {
   "cell_type": "code",
   "execution_count": null,
   "metadata": {
    "cell_id": "890808c42d9a45a1ab402c05bc47322a",
    "deepnote_cell_type": "code",
    "deepnote_to_be_reexecuted": true,
    "execution_millis": 380,
    "execution_start": 1698118870176,
    "id": "_YPuA9RzOhoF",
    "source_hash": null
   },
   "outputs": [],
   "source": [
    "data_gabung.to_excel('data_gabung.xlsx', index = False)"
   ]
  },
  {
   "cell_type": "markdown",
   "metadata": {
    "created_in_deepnote_cell": true,
    "deepnote_cell_type": "markdown",
    "id": "zetPG3x3OhoF"
   },
   "source": [
    "<a style='text-decoration:none;line-height:16px;display:flex;color:#5B5B62;padding:10px;justify-content:end;' href='https://deepnote.com?utm_source=created-in-deepnote-cell&projectId=235be482-bea5-41e0-a131-c60cdaf79d4f' target=\"_blank\">\n",
    "<img alt='Created in deepnote.com' style='display:inline;max-height:16px;margin:0px;margin-right:7.5px;' src='data:image/svg+xml;base64,PD94bWwgdmVyc2lvbj0iMS4wIiBlbmNvZGluZz0iVVRGLTgiPz4KPHN2ZyB3aWR0aD0iODBweCIgaGVpZ2h0PSI4MHB4IiB2aWV3Qm94PSIwIDAgODAgODAiIHZlcnNpb249IjEuMSIgeG1sbnM9Imh0dHA6Ly93d3cudzMub3JnLzIwMDAvc3ZnIiB4bWxuczp4bGluaz0iaHR0cDovL3d3dy53My5vcmcvMTk5OS94bGluayI+CiAgICA8IS0tIEdlbmVyYXRvcjogU2tldGNoIDU0LjEgKDc2NDkwKSAtIGh0dHBzOi8vc2tldGNoYXBwLmNvbSAtLT4KICAgIDx0aXRsZT5Hcm91cCAzPC90aXRsZT4KICAgIDxkZXNjPkNyZWF0ZWQgd2l0aCBTa2V0Y2guPC9kZXNjPgogICAgPGcgaWQ9IkxhbmRpbmciIHN0cm9rZT0ibm9uZSIgc3Ryb2tlLXdpZHRoPSIxIiBmaWxsPSJub25lIiBmaWxsLXJ1bGU9ImV2ZW5vZGQiPgogICAgICAgIDxnIGlkPSJBcnRib2FyZCIgdHJhbnNmb3JtPSJ0cmFuc2xhdGUoLTEyMzUuMDAwMDAwLCAtNzkuMDAwMDAwKSI+CiAgICAgICAgICAgIDxnIGlkPSJHcm91cC0zIiB0cmFuc2Zvcm09InRyYW5zbGF0ZSgxMjM1LjAwMDAwMCwgNzkuMDAwMDAwKSI+CiAgICAgICAgICAgICAgICA8cG9seWdvbiBpZD0iUGF0aC0yMCIgZmlsbD0iIzAyNjVCNCIgcG9pbnRzPSIyLjM3NjIzNzYyIDgwIDM4LjA0NzY2NjcgODAgNTcuODIxNzgyMiA3My44MDU3NTkyIDU3LjgyMTc4MjIgMzIuNzU5MjczOSAzOS4xNDAyMjc4IDMxLjY4MzE2ODMiPjwvcG9seWdvbj4KICAgICAgICAgICAgICAgIDxwYXRoIGQ9Ik0zNS4wMDc3MTgsODAgQzQyLjkwNjIwMDcsNzYuNDU0OTM1OCA0Ny41NjQ5MTY3LDcxLjU0MjI2NzEgNDguOTgzODY2LDY1LjI2MTk5MzkgQzUxLjExMjI4OTksNTUuODQxNTg0MiA0MS42NzcxNzk1LDQ5LjIxMjIyODQgMjUuNjIzOTg0Niw0OS4yMTIyMjg0IEMyNS40ODQ5Mjg5LDQ5LjEyNjg0NDggMjkuODI2MTI5Niw0My4yODM4MjQ4IDM4LjY0NzU4NjksMzEuNjgzMTY4MyBMNzIuODcxMjg3MSwzMi41NTQ0MjUgTDY1LjI4MDk3Myw2Ny42NzYzNDIxIEw1MS4xMTIyODk5LDc3LjM3NjE0NCBMMzUuMDA3NzE4LDgwIFoiIGlkPSJQYXRoLTIyIiBmaWxsPSIjMDAyODY4Ij48L3BhdGg+CiAgICAgICAgICAgICAgICA8cGF0aCBkPSJNMCwzNy43MzA0NDA1IEwyNy4xMTQ1MzcsMC4yNTcxMTE0MzYgQzYyLjM3MTUxMjMsLTEuOTkwNzE3MDEgODAsMTAuNTAwMzkyNyA4MCwzNy43MzA0NDA1IEM4MCw2NC45NjA0ODgyIDY0Ljc3NjUwMzgsNzkuMDUwMzQxNCAzNC4zMjk1MTEzLDgwIEM0Ny4wNTUzNDg5LDc3LjU2NzA4MDggNTMuNDE4MjY3Nyw3MC4zMTM2MTAzIDUzLjQxODI2NzcsNTguMjM5NTg4NSBDNTMuNDE4MjY3Nyw0MC4xMjg1NTU3IDM2LjMwMzk1NDQsMzcuNzMwNDQwNSAyNS4yMjc0MTcsMzcuNzMwNDQwNSBDMTcuODQzMDU4NiwzNy43MzA0NDA1IDkuNDMzOTE5NjYsMzcuNzMwNDQwNSAwLDM3LjczMDQ0MDUgWiIgaWQ9IlBhdGgtMTkiIGZpbGw9IiMzNzkzRUYiPjwvcGF0aD4KICAgICAgICAgICAgPC9nPgogICAgICAgIDwvZz4KICAgIDwvZz4KPC9zdmc+' > </img>\n",
    "Created in <span style='font-weight:600;margin-left:4px;'>Deepnote</span></a>"
   ]
  }
 ],
 "metadata": {
  "colab": {
   "provenance": []
  },
  "deepnote": {},
  "deepnote_execution_queue": [],
  "deepnote_notebook_id": "cc836ed5f3d54ad0a8a1b8d707462659",
  "deepnote_persisted_session": {
   "createdAt": "2023-10-24T05:46:09.618Z"
  },
  "kernelspec": {
   "display_name": "Python 3 (ipykernel)",
   "language": "python",
   "name": "python3"
  },
  "language_info": {
   "codemirror_mode": {
    "name": "ipython",
    "version": 3
   },
   "file_extension": ".py",
   "mimetype": "text/x-python",
   "name": "python",
   "nbconvert_exporter": "python",
   "pygments_lexer": "ipython3",
   "version": "3.12.3"
  }
 },
 "nbformat": 4,
 "nbformat_minor": 4
}
