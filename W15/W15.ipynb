{
 "cells": [
  {
   "cell_type": "code",
   "execution_count": 2,
   "metadata": {},
   "outputs": [],
   "source": [
    "import math\n",
    "import pandas as pd\n",
    "import matplotlib.pyplot as plt\n",
    "import seaborn as sns"
   ]
  },
  {
   "cell_type": "markdown",
   "metadata": {},
   "source": [
    "## Nomor 1"
   ]
  },
  {
   "cell_type": "code",
   "execution_count": 1,
   "metadata": {},
   "outputs": [
    {
     "data": {
      "text/plain": [
       "32"
      ]
     },
     "execution_count": 1,
     "metadata": {},
     "output_type": "execute_result"
    }
   ],
   "source": [
    "def power(x,n):\n",
    "    return x**n\n",
    "\n",
    "power(2,5)"
   ]
  },
  {
   "cell_type": "code",
   "execution_count": 3,
   "metadata": {},
   "outputs": [
    {
     "data": {
      "text/plain": [
       "[2, 4, 8, 16, 32]"
      ]
     },
     "execution_count": 3,
     "metadata": {},
     "output_type": "execute_result"
    }
   ],
   "source": [
    "def deret_geometri(x,n):\n",
    "    xx = []\n",
    "    for i in range(1,n+1):\n",
    "        xx.append(x**i)\n",
    "    return xx\n",
    "\n",
    "deret_geometri(2,5)"
   ]
  },
  {
   "cell_type": "code",
   "execution_count": 4,
   "metadata": {},
   "outputs": [
    {
     "data": {
      "text/plain": [
       "6"
      ]
     },
     "execution_count": 4,
     "metadata": {},
     "output_type": "execute_result"
    }
   ],
   "source": [
    "def factorial(x):\n",
    "    if x <= 1:\n",
    "        return 1\n",
    "    else:\n",
    "        return x*factorial(x-1)\n",
    "    \n",
    "factorial(3)"
   ]
  },
  {
   "cell_type": "code",
   "execution_count": 5,
   "metadata": {},
   "outputs": [
    {
     "data": {
      "text/plain": [
       "[1, 2, 6, 24]"
      ]
     },
     "execution_count": 5,
     "metadata": {},
     "output_type": "execute_result"
    }
   ],
   "source": [
    "def deret_factorial(n):\n",
    "    fac = []\n",
    "    for i in range(1,n+1):\n",
    "        fac.append(factorial(i))\n",
    "    return fac\n",
    "\n",
    "deret_factorial(4)"
   ]
  },
  {
   "cell_type": "code",
   "execution_count": 52,
   "metadata": {},
   "outputs": [],
   "source": [
    "def exp(x):\n",
    "    n = 0\n",
    "    sum = 0\n",
    "    threshold = 0.0001\n",
    "    current = 1\n",
    "    previous = 0\n",
    "\n",
    "    while True:\n",
    "        sum += power(x,n) / factorial(n)\n",
    "        current = sum\n",
    "\n",
    "        if abs(current - previous) <= threshold:\n",
    "            break\n",
    "\n",
    "        previous = current\n",
    "        n += 1\n",
    "    \n",
    "    return current, n"
   ]
  },
  {
   "cell_type": "code",
   "execution_count": 53,
   "metadata": {},
   "outputs": [
    {
     "data": {
      "text/plain": [
       "(2.71827876984127, 8)"
      ]
     },
     "execution_count": 53,
     "metadata": {},
     "output_type": "execute_result"
    }
   ],
   "source": [
    "exp(1)"
   ]
  },
  {
   "cell_type": "code",
   "execution_count": 6,
   "metadata": {},
   "outputs": [
    {
     "data": {
      "text/plain": [
       "2.718281828459045"
      ]
     },
     "execution_count": 6,
     "metadata": {},
     "output_type": "execute_result"
    }
   ],
   "source": [
    "math.exp(1)"
   ]
  },
  {
   "cell_type": "markdown",
   "metadata": {},
   "source": [
    "## Nomor 2"
   ]
  },
  {
   "cell_type": "markdown",
   "metadata": {},
   "source": [
    "### A"
   ]
  },
  {
   "cell_type": "code",
   "execution_count": 8,
   "metadata": {},
   "outputs": [
    {
     "data": {
      "text/html": [
       "<div>\n",
       "<style scoped>\n",
       "    .dataframe tbody tr th:only-of-type {\n",
       "        vertical-align: middle;\n",
       "    }\n",
       "\n",
       "    .dataframe tbody tr th {\n",
       "        vertical-align: top;\n",
       "    }\n",
       "\n",
       "    .dataframe thead th {\n",
       "        text-align: right;\n",
       "    }\n",
       "</style>\n",
       "<table border=\"1\" class=\"dataframe\">\n",
       "  <thead>\n",
       "    <tr style=\"text-align: right;\">\n",
       "      <th></th>\n",
       "      <th>Date</th>\n",
       "      <th>Open</th>\n",
       "      <th>High</th>\n",
       "      <th>Low</th>\n",
       "      <th>Close</th>\n",
       "      <th>Adj Close</th>\n",
       "      <th>Volume</th>\n",
       "    </tr>\n",
       "  </thead>\n",
       "  <tbody>\n",
       "    <tr>\n",
       "      <th>0</th>\n",
       "      <td>2023-06-12</td>\n",
       "      <td>6694.583984</td>\n",
       "      <td>6722.373047</td>\n",
       "      <td>6670.521973</td>\n",
       "      <td>6722.373047</td>\n",
       "      <td>6722.373047</td>\n",
       "      <td>158712000</td>\n",
       "    </tr>\n",
       "    <tr>\n",
       "      <th>1</th>\n",
       "      <td>2023-06-13</td>\n",
       "      <td>6722.373047</td>\n",
       "      <td>6744.038086</td>\n",
       "      <td>6697.070801</td>\n",
       "      <td>6719.014160</td>\n",
       "      <td>6719.014160</td>\n",
       "      <td>176568000</td>\n",
       "    </tr>\n",
       "    <tr>\n",
       "      <th>2</th>\n",
       "      <td>2023-06-14</td>\n",
       "      <td>6718.874023</td>\n",
       "      <td>6744.644043</td>\n",
       "      <td>6672.855957</td>\n",
       "      <td>6699.716797</td>\n",
       "      <td>6699.716797</td>\n",
       "      <td>178279800</td>\n",
       "    </tr>\n",
       "    <tr>\n",
       "      <th>3</th>\n",
       "      <td>2023-06-15</td>\n",
       "      <td>6699.716797</td>\n",
       "      <td>6717.456055</td>\n",
       "      <td>6660.909180</td>\n",
       "      <td>6713.794922</td>\n",
       "      <td>6713.794922</td>\n",
       "      <td>151187300</td>\n",
       "    </tr>\n",
       "    <tr>\n",
       "      <th>4</th>\n",
       "      <td>2023-06-16</td>\n",
       "      <td>6713.515137</td>\n",
       "      <td>6726.456055</td>\n",
       "      <td>6669.335938</td>\n",
       "      <td>6698.546875</td>\n",
       "      <td>6698.546875</td>\n",
       "      <td>172061800</td>\n",
       "    </tr>\n",
       "  </tbody>\n",
       "</table>\n",
       "</div>"
      ],
      "text/plain": [
       "         Date         Open         High          Low        Close  \\\n",
       "0  2023-06-12  6694.583984  6722.373047  6670.521973  6722.373047   \n",
       "1  2023-06-13  6722.373047  6744.038086  6697.070801  6719.014160   \n",
       "2  2023-06-14  6718.874023  6744.644043  6672.855957  6699.716797   \n",
       "3  2023-06-15  6699.716797  6717.456055  6660.909180  6713.794922   \n",
       "4  2023-06-16  6713.515137  6726.456055  6669.335938  6698.546875   \n",
       "\n",
       "     Adj Close     Volume  \n",
       "0  6722.373047  158712000  \n",
       "1  6719.014160  176568000  \n",
       "2  6699.716797  178279800  \n",
       "3  6713.794922  151187300  \n",
       "4  6698.546875  172061800  "
      ]
     },
     "execution_count": 8,
     "metadata": {},
     "output_type": "execute_result"
    }
   ],
   "source": [
    "data = pd.read_csv(\"datakuis.csv\")\n",
    "data.head()"
   ]
  },
  {
   "cell_type": "code",
   "execution_count": 9,
   "metadata": {},
   "outputs": [
    {
     "name": "stdout",
     "output_type": "stream",
     "text": [
      "<class 'pandas.core.frame.DataFrame'>\n",
      "RangeIndex: 235 entries, 0 to 234\n",
      "Data columns (total 7 columns):\n",
      " #   Column     Non-Null Count  Dtype  \n",
      "---  ------     --------------  -----  \n",
      " 0   Date       235 non-null    object \n",
      " 1   Open       235 non-null    float64\n",
      " 2   High       235 non-null    float64\n",
      " 3   Low        235 non-null    float64\n",
      " 4   Close      235 non-null    float64\n",
      " 5   Adj Close  235 non-null    float64\n",
      " 6   Volume     235 non-null    int64  \n",
      "dtypes: float64(5), int64(1), object(1)\n",
      "memory usage: 13.0+ KB\n"
     ]
    }
   ],
   "source": [
    "data.info()"
   ]
  },
  {
   "cell_type": "markdown",
   "metadata": {},
   "source": [
    "### B"
   ]
  },
  {
   "cell_type": "code",
   "execution_count": 27,
   "metadata": {},
   "outputs": [],
   "source": [
    "### Cara 1\n",
    "for i in range(len(data)):\n",
    "    if data.loc[i, 'Open'] < data.loc[i, 'Close']:\n",
    "        data.loc[i, 'Kenaikan'] = \"Naik\"\n",
    "    elif data.loc[i, 'Open'] > data.loc[i, 'Close']:\n",
    "        data.loc[i, 'Kenaikan'] = \"Turun\"\n",
    "    else:\n",
    "        data.loc[i, 'Kenaikan'] = \"Tetap\""
   ]
  },
  {
   "cell_type": "code",
   "execution_count": 25,
   "metadata": {},
   "outputs": [],
   "source": [
    "### Cara 2\n",
    "data[\"Kenaikan\"] = [\"Naik\" if data[\"Close\"][i]>data[\"Open\"][i] \n",
    "                    else \"Turun\" if data[\"Close\"][i]<data[\"Open\"][i] \n",
    "                    else \"Tetap\" \n",
    "                    for i in range(data.shape[0])]"
   ]
  },
  {
   "cell_type": "code",
   "execution_count": 28,
   "metadata": {},
   "outputs": [
    {
     "data": {
      "text/html": [
       "<div>\n",
       "<style scoped>\n",
       "    .dataframe tbody tr th:only-of-type {\n",
       "        vertical-align: middle;\n",
       "    }\n",
       "\n",
       "    .dataframe tbody tr th {\n",
       "        vertical-align: top;\n",
       "    }\n",
       "\n",
       "    .dataframe thead th {\n",
       "        text-align: right;\n",
       "    }\n",
       "</style>\n",
       "<table border=\"1\" class=\"dataframe\">\n",
       "  <thead>\n",
       "    <tr style=\"text-align: right;\">\n",
       "      <th></th>\n",
       "      <th>Date</th>\n",
       "      <th>Open</th>\n",
       "      <th>High</th>\n",
       "      <th>Low</th>\n",
       "      <th>Close</th>\n",
       "      <th>Adj Close</th>\n",
       "      <th>Volume</th>\n",
       "      <th>Kenaikan</th>\n",
       "    </tr>\n",
       "  </thead>\n",
       "  <tbody>\n",
       "    <tr>\n",
       "      <th>0</th>\n",
       "      <td>2023-06-12</td>\n",
       "      <td>6694.583984</td>\n",
       "      <td>6722.373047</td>\n",
       "      <td>6670.521973</td>\n",
       "      <td>6722.373047</td>\n",
       "      <td>6722.373047</td>\n",
       "      <td>158712000</td>\n",
       "      <td>Naik</td>\n",
       "    </tr>\n",
       "    <tr>\n",
       "      <th>1</th>\n",
       "      <td>2023-06-13</td>\n",
       "      <td>6722.373047</td>\n",
       "      <td>6744.038086</td>\n",
       "      <td>6697.070801</td>\n",
       "      <td>6719.014160</td>\n",
       "      <td>6719.014160</td>\n",
       "      <td>176568000</td>\n",
       "      <td>Turun</td>\n",
       "    </tr>\n",
       "    <tr>\n",
       "      <th>2</th>\n",
       "      <td>2023-06-14</td>\n",
       "      <td>6718.874023</td>\n",
       "      <td>6744.644043</td>\n",
       "      <td>6672.855957</td>\n",
       "      <td>6699.716797</td>\n",
       "      <td>6699.716797</td>\n",
       "      <td>178279800</td>\n",
       "      <td>Turun</td>\n",
       "    </tr>\n",
       "    <tr>\n",
       "      <th>3</th>\n",
       "      <td>2023-06-15</td>\n",
       "      <td>6699.716797</td>\n",
       "      <td>6717.456055</td>\n",
       "      <td>6660.909180</td>\n",
       "      <td>6713.794922</td>\n",
       "      <td>6713.794922</td>\n",
       "      <td>151187300</td>\n",
       "      <td>Naik</td>\n",
       "    </tr>\n",
       "    <tr>\n",
       "      <th>4</th>\n",
       "      <td>2023-06-16</td>\n",
       "      <td>6713.515137</td>\n",
       "      <td>6726.456055</td>\n",
       "      <td>6669.335938</td>\n",
       "      <td>6698.546875</td>\n",
       "      <td>6698.546875</td>\n",
       "      <td>172061800</td>\n",
       "      <td>Turun</td>\n",
       "    </tr>\n",
       "    <tr>\n",
       "      <th>...</th>\n",
       "      <td>...</td>\n",
       "      <td>...</td>\n",
       "      <td>...</td>\n",
       "      <td>...</td>\n",
       "      <td>...</td>\n",
       "      <td>...</td>\n",
       "      <td>...</td>\n",
       "      <td>...</td>\n",
       "    </tr>\n",
       "    <tr>\n",
       "      <th>230</th>\n",
       "      <td>2024-06-04</td>\n",
       "      <td>7071.094238</td>\n",
       "      <td>7149.192871</td>\n",
       "      <td>7065.034180</td>\n",
       "      <td>7099.312012</td>\n",
       "      <td>7099.312012</td>\n",
       "      <td>160663800</td>\n",
       "      <td>Naik</td>\n",
       "    </tr>\n",
       "    <tr>\n",
       "      <th>231</th>\n",
       "      <td>2024-06-05</td>\n",
       "      <td>7114.535156</td>\n",
       "      <td>7118.349121</td>\n",
       "      <td>6934.942871</td>\n",
       "      <td>6947.669922</td>\n",
       "      <td>6947.669922</td>\n",
       "      <td>137116300</td>\n",
       "      <td>Turun</td>\n",
       "    </tr>\n",
       "    <tr>\n",
       "      <th>232</th>\n",
       "      <td>2024-06-06</td>\n",
       "      <td>6992.562988</td>\n",
       "      <td>7032.574219</td>\n",
       "      <td>6939.545898</td>\n",
       "      <td>6974.896973</td>\n",
       "      <td>6974.896973</td>\n",
       "      <td>129986000</td>\n",
       "      <td>Turun</td>\n",
       "    </tr>\n",
       "    <tr>\n",
       "      <th>233</th>\n",
       "      <td>2024-06-07</td>\n",
       "      <td>6987.793945</td>\n",
       "      <td>6994.115234</td>\n",
       "      <td>6887.812012</td>\n",
       "      <td>6897.950195</td>\n",
       "      <td>6897.950195</td>\n",
       "      <td>109886700</td>\n",
       "      <td>Turun</td>\n",
       "    </tr>\n",
       "    <tr>\n",
       "      <th>234</th>\n",
       "      <td>2024-06-10</td>\n",
       "      <td>0.000000</td>\n",
       "      <td>0.000000</td>\n",
       "      <td>0.000000</td>\n",
       "      <td>6921.547852</td>\n",
       "      <td>6921.547852</td>\n",
       "      <td>0</td>\n",
       "      <td>Naik</td>\n",
       "    </tr>\n",
       "  </tbody>\n",
       "</table>\n",
       "<p>235 rows × 8 columns</p>\n",
       "</div>"
      ],
      "text/plain": [
       "           Date         Open         High          Low        Close  \\\n",
       "0    2023-06-12  6694.583984  6722.373047  6670.521973  6722.373047   \n",
       "1    2023-06-13  6722.373047  6744.038086  6697.070801  6719.014160   \n",
       "2    2023-06-14  6718.874023  6744.644043  6672.855957  6699.716797   \n",
       "3    2023-06-15  6699.716797  6717.456055  6660.909180  6713.794922   \n",
       "4    2023-06-16  6713.515137  6726.456055  6669.335938  6698.546875   \n",
       "..          ...          ...          ...          ...          ...   \n",
       "230  2024-06-04  7071.094238  7149.192871  7065.034180  7099.312012   \n",
       "231  2024-06-05  7114.535156  7118.349121  6934.942871  6947.669922   \n",
       "232  2024-06-06  6992.562988  7032.574219  6939.545898  6974.896973   \n",
       "233  2024-06-07  6987.793945  6994.115234  6887.812012  6897.950195   \n",
       "234  2024-06-10     0.000000     0.000000     0.000000  6921.547852   \n",
       "\n",
       "       Adj Close     Volume Kenaikan  \n",
       "0    6722.373047  158712000     Naik  \n",
       "1    6719.014160  176568000    Turun  \n",
       "2    6699.716797  178279800    Turun  \n",
       "3    6713.794922  151187300     Naik  \n",
       "4    6698.546875  172061800    Turun  \n",
       "..           ...        ...      ...  \n",
       "230  7099.312012  160663800     Naik  \n",
       "231  6947.669922  137116300    Turun  \n",
       "232  6974.896973  129986000    Turun  \n",
       "233  6897.950195  109886700    Turun  \n",
       "234  6921.547852          0     Naik  \n",
       "\n",
       "[235 rows x 8 columns]"
      ]
     },
     "execution_count": 28,
     "metadata": {},
     "output_type": "execute_result"
    }
   ],
   "source": [
    "data"
   ]
  },
  {
   "cell_type": "code",
   "execution_count": 34,
   "metadata": {},
   "outputs": [
    {
     "data": {
      "text/html": [
       "<div>\n",
       "<style scoped>\n",
       "    .dataframe tbody tr th:only-of-type {\n",
       "        vertical-align: middle;\n",
       "    }\n",
       "\n",
       "    .dataframe tbody tr th {\n",
       "        vertical-align: top;\n",
       "    }\n",
       "\n",
       "    .dataframe thead th {\n",
       "        text-align: right;\n",
       "    }\n",
       "</style>\n",
       "<table border=\"1\" class=\"dataframe\">\n",
       "  <thead>\n",
       "    <tr style=\"text-align: right;\">\n",
       "      <th></th>\n",
       "      <th>Date</th>\n",
       "      <th>Open</th>\n",
       "      <th>High</th>\n",
       "      <th>Low</th>\n",
       "      <th>Close</th>\n",
       "      <th>Adj Close</th>\n",
       "      <th>Volume</th>\n",
       "    </tr>\n",
       "    <tr>\n",
       "      <th>Kenaikan</th>\n",
       "      <th></th>\n",
       "      <th></th>\n",
       "      <th></th>\n",
       "      <th></th>\n",
       "      <th></th>\n",
       "      <th></th>\n",
       "      <th></th>\n",
       "    </tr>\n",
       "  </thead>\n",
       "  <tbody>\n",
       "    <tr>\n",
       "      <th>Naik</th>\n",
       "      <td>124</td>\n",
       "      <td>124</td>\n",
       "      <td>124</td>\n",
       "      <td>124</td>\n",
       "      <td>124</td>\n",
       "      <td>124</td>\n",
       "      <td>124</td>\n",
       "    </tr>\n",
       "    <tr>\n",
       "      <th>Turun</th>\n",
       "      <td>111</td>\n",
       "      <td>111</td>\n",
       "      <td>111</td>\n",
       "      <td>111</td>\n",
       "      <td>111</td>\n",
       "      <td>111</td>\n",
       "      <td>111</td>\n",
       "    </tr>\n",
       "  </tbody>\n",
       "</table>\n",
       "</div>"
      ],
      "text/plain": [
       "          Date  Open  High  Low  Close  Adj Close  Volume\n",
       "Kenaikan                                                 \n",
       "Naik       124   124   124  124    124        124     124\n",
       "Turun      111   111   111  111    111        111     111"
      ]
     },
     "execution_count": 34,
     "metadata": {},
     "output_type": "execute_result"
    }
   ],
   "source": [
    "data.groupby(\"Kenaikan\").agg(\"count\")"
   ]
  },
  {
   "cell_type": "markdown",
   "metadata": {},
   "source": [
    "### C"
   ]
  },
  {
   "cell_type": "code",
   "execution_count": 70,
   "metadata": {},
   "outputs": [],
   "source": [
    "data.to_excel('data_kenaikan.xlsx', index = False, header=True)"
   ]
  },
  {
   "cell_type": "markdown",
   "metadata": {},
   "source": [
    "### D"
   ]
  },
  {
   "cell_type": "code",
   "execution_count": 36,
   "metadata": {},
   "outputs": [],
   "source": [
    "### Cara 1\n",
    "def counting(input):\n",
    "    naik = 0\n",
    "    turun = 0\n",
    "    tetap = 0\n",
    "    for i in range(len(input)):\n",
    "        if input[i] == \"Naik\":\n",
    "            naik += 1\n",
    "        elif input[i] == \"Turun\":\n",
    "            turun += 1\n",
    "        else:\n",
    "            tetap += 1\n",
    "\n",
    "    return {\"Naik\":naik, \"Turun\":turun, \"Tetap\":tetap}"
   ]
  },
  {
   "cell_type": "code",
   "execution_count": 42,
   "metadata": {},
   "outputs": [
    {
     "data": {
      "text/plain": [
       "{'Naik': 124, 'Turun': 111, 'Tetap': 0}"
      ]
     },
     "execution_count": 42,
     "metadata": {},
     "output_type": "execute_result"
    }
   ],
   "source": [
    "counting(data['Kenaikan'])"
   ]
  },
  {
   "cell_type": "markdown",
   "metadata": {},
   "source": [
    "### E"
   ]
  },
  {
   "cell_type": "code",
   "execution_count": 86,
   "metadata": {},
   "outputs": [
    {
     "data": {
      "text/plain": [
       "<function matplotlib.pyplot.show(close=None, block=None)>"
      ]
     },
     "execution_count": 86,
     "metadata": {},
     "output_type": "execute_result"
    },
    {
     "data": {
      "image/png": "[encoded data removed]",
      "text/plain": [
       "<Figure size 1200x600 with 1 Axes>"
      ]
     },
     "metadata": {},
     "output_type": "display_data"
    }
   ],
   "source": [
    "plt.figure(figsize=(12,6))\n",
    "sns.countplot(x = 'Kenaikan', data = data, hue = 'Kenaikan')\n",
    "plt.show"
   ]
  },
  {
   "cell_type": "code",
   "execution_count": null,
   "metadata": {},
   "outputs": [],
   "source": []
  }
 ],
 "metadata": {
  "kernelspec": {
   "display_name": "Python 3",
   "language": "python",
   "name": "python3"
  },
  "language_info": {
   "codemirror_mode": {
    "name": "ipython",
    "version": 3
   },
   "file_extension": ".py",
   "mimetype": "text/x-python",
   "name": "python",
   "nbconvert_exporter": "python",
   "pygments_lexer": "ipython3",
   "version": "3.11.9"
  }
 },
 "nbformat": 4,
 "nbformat_minor": 2
}
